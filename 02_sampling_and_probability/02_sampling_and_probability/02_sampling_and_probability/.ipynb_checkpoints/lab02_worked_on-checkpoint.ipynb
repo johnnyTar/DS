{
 "cells": [
  {
   "cell_type": "markdown",
   "metadata": {},
   "source": [
    "# Lab 2: Data Sampling and Statistics\n",
    "\n",
    "Welcome to Lab 2!\n",
    "\n",
    "We will introduce the concept of [randomness](https://inferentialthinking.com/chapters/09/Randomness.html).\n",
    "\n",
    "The data used in this lab will contain salary data and other statistics for basketball players from the 2014-2015 NBA season. This data was collected from the following sports analytic sites: [Basketball Reference](http://www.basketball-reference.com) and [Spotrac](http://www.spotrac.com).\n",
    "\n",
    "First, set up the tests and imports by running the cell below."
   ]
  },
  {
   "cell_type": "code",
   "execution_count": 2,
   "metadata": {
    "pycharm": {
     "name": "#%%\n"
    }
   },
   "outputs": [],
   "source": [
    "import numpy as np\n",
    "import matplotlib\n",
    "import pandas as pd\n",
    "%matplotlib inline\n",
    "import matplotlib.pyplot as plots\n",
    "import otter\n",
    "grader = otter.Notebook(\"lab02.ipynb\")\n",
    "import matplotlib.pyplot as plt\n",
    "import seaborn as sns\n",
    "plt.style.use('fivethirtyeight')\n",
    "%matplotlib inline\n",
    "plt.rcParams['figure.figsize'] = (16,8)\n",
    "plt.rcParams['figure.dpi'] = 150\n",
    "sns.set()\n",
    "from IPython.display import display, Latex, Markdown"
   ]
  },
  {
   "cell_type": "markdown",
   "metadata": {},
   "source": [
    "## 1. Nachos and Conditionals"
   ]
  },
  {
   "cell_type": "markdown",
   "metadata": {},
   "source": [
    "One day, when you come home after a long week, you see a hot bowl of nachos waiting on the dining table! Let's say that whenever you take a nacho from the bowl, it will either have only **cheese**, only **salsa**, **both** cheese and salsa, or **neither** cheese nor salsa (a sad tortilla chip indeed).\n",
    "\n",
    "Let's try and simulate taking nachos from the bowl at random using the function, `np.random.choice(arr)`, where `arr` is the array that you're using. Start by running the cell below several times, and observe how the results change."
   ]
  },
  {
   "cell_type": "code",
   "execution_count": 12,
   "metadata": {
    "pycharm": {
     "name": "#%%\n"
    }
   },
   "outputs": [
    {
     "data": {
      "text/plain": [
       "'both'"
      ]
     },
     "execution_count": 12,
     "metadata": {},
     "output_type": "execute_result"
    }
   ],
   "source": [
    "nachos = np.array(['cheese', 'salsa', 'both', 'neither'])\n",
    "np.random.choice(nachos)"
   ]
  },
  {
   "cell_type": "markdown",
   "metadata": {},
   "source": [
    "**Question 1.** Assume we took ten nachos at random, and stored the results in an array called `ten_nachos` as done below. Find the number of nachos with only cheese using code (do not hardcode the answer).\n",
    "\n",
    "*Hint:* Our solution involves a comparison operator and the `np.count_nonzero` method."
   ]
  },
  {
   "cell_type": "code",
   "execution_count": 15,
   "metadata": {
    "pycharm": {
     "name": "#%%\n"
    }
   },
   "outputs": [
    {
     "data": {
      "text/plain": [
       "3"
      ]
     },
     "execution_count": 15,
     "metadata": {},
     "output_type": "execute_result"
    }
   ],
   "source": [
    "ten_nachos = np.array(['neither', 'cheese', 'both', 'both', 'cheese', 'salsa', 'both', 'neither', 'cheese', 'both'])\n",
    "number_cheese = np.count_nonzero([ten_nachos == 'cheese'])\n",
    "number_cheese"
   ]
  },
  {
   "cell_type": "markdown",
   "metadata": {},
   "source": [
    "## 2. Simulations and For Loops\n",
    "Using a `for` statement, we can perform a task multiple times. Here, we'll simulate drawing different suits from a deck of cards."
   ]
  },
  {
   "cell_type": "code",
   "execution_count": 16,
   "metadata": {
    "pycharm": {
     "name": "#%%\n"
    }
   },
   "outputs": [
    {
     "data": {
      "text/plain": [
       "array(['♡', '♤', '♤', '♤', '♡', '♢'], dtype='<U32')"
      ]
     },
     "execution_count": 16,
     "metadata": {},
     "output_type": "execute_result"
    }
   ],
   "source": [
    "suits = np.array([\"♤\", \"♡\", \"♢\", \"♧\"])\n",
    "\n",
    "draws = np.array([])\n",
    "\n",
    "repetitions = 6\n",
    "\n",
    "for i in np.arange(repetitions):\n",
    "    draws = np.append(draws, np.random.choice(suits))\n",
    "\n",
    "draws"
   ]
  },
  {
   "cell_type": "markdown",
   "metadata": {},
   "source": [
    "**Question 1.** Clay is playing darts. His dartboard contains ten equal-sized zones with point values from 1 to 10. Write code that simulates his total score after 1000 dart tosses. Make sure to use a `for` loop.\n",
    "\n",
    "*Hint:* There are a few steps to this problem (and most simulations): \n",
    "1. Figuring out the big picture of what we want to simulate (the total score after 1000 dart tosses)\n",
    "2. Deciding the possible values you can take in the experiment (point values in this case) and simulating one example (throwing one dart)\n",
    "3. Deciding how many times to run through the experiment (1000 tosses in our case) and keeping track of the total information of each time you ran through the experiment (the total score in this case)\n",
    "4. Coding up the whole simulation!"
   ]
  },
  {
   "cell_type": "code",
   "execution_count": 22,
   "metadata": {
    "pycharm": {
     "name": "#%%\n"
    }
   },
   "outputs": [
    {
     "data": {
      "text/plain": [
       "5574"
      ]
     },
     "execution_count": 22,
     "metadata": {},
     "output_type": "execute_result"
    }
   ],
   "source": [
    "possible_point_values = np.arange(1, 11, 1)\n",
    "tosses = 1000\n",
    "total_score = 0\n",
    "\n",
    "# a for loop would be useful here\n",
    "for i in np.arange(tosses):\n",
    "    total_score += np.random.choice(possible_point_values)\n",
    "\n",
    "\n",
    "total_score"
   ]
  },
  {
   "cell_type": "markdown",
   "metadata": {},
   "source": [
    "**Question 2.** In the following cell, we've loaded the text of _Pride and Prejudice_ by Jane Austen, split it into individual words, and stored these words in an array. Using a `for` loop, assign `longer_than_five` to the number of words in the novel that are more than 5 letters long.\n",
    "\n",
    "*Hint*: You can find the number of letters in a word with the `len` function."
   ]
  },
  {
   "cell_type": "code",
   "execution_count": 23,
   "metadata": {
    "pycharm": {
     "name": "#%%\n"
    }
   },
   "outputs": [
    {
     "data": {
      "text/plain": [
       "35453"
      ]
     },
     "execution_count": 23,
     "metadata": {},
     "output_type": "execute_result"
    }
   ],
   "source": [
    "austen_string = open('Austen_PrideAndPrejudice.txt', encoding='utf-8').read()\n",
    "p_and_p_words = np.array(austen_string.split())\n",
    "\n",
    "longer_than_five = 0\n",
    "\n",
    "# a for loop would be useful here\n",
    "for word in p_and_p_words:\n",
    "    if len(word) > 5:\n",
    "        longer_than_five += 1\n",
    "\n",
    "longer_than_five"
   ]
  },
  {
   "cell_type": "markdown",
   "metadata": {},
   "source": [
    "**Question 3.** Using simulation with 10,000 trials, assign `chance_of_all_different` to an estimate of the chance that if you pick three words from Pride and Prejudice uniformly at random (with replacement), they all have different lengths."
   ]
  },
  {
   "cell_type": "code",
   "execution_count": 26,
   "metadata": {
    "pycharm": {
     "name": "#%%\n"
    }
   },
   "outputs": [
    {
     "data": {
      "text/plain": [
       "0.6299"
      ]
     },
     "execution_count": 26,
     "metadata": {},
     "output_type": "execute_result"
    }
   ],
   "source": [
    "trials = 10000\n",
    "different = 0\n",
    "\n",
    "for trial in range(trials):\n",
    "    a = np.random.choice(p_and_p_words)\n",
    "    b = np.random.choice(p_and_p_words)\n",
    "    c = np.random.choice(p_and_p_words)\n",
    "    if len(a) != len(b) and len(b) != len(c) and len(a) != len(c):\n",
    "        different += 1\n",
    "\n",
    "chance_of_all_different = different/trials\n",
    "\n",
    "chance_of_all_different"
   ]
  },
  {
   "cell_type": "markdown",
   "metadata": {},
   "source": [
    "## 3. Sampling Basketball Data\n",
    "\n",
    "Run the cell below to load the player and salary data. "
   ]
  },
  {
   "cell_type": "code",
   "execution_count": 27,
   "metadata": {
    "pycharm": {
     "name": "#%%\n"
    }
   },
   "outputs": [
    {
     "data": {
      "text/html": [
       "<div>\n",
       "<style scoped>\n",
       "    .dataframe tbody tr th:only-of-type {\n",
       "        vertical-align: middle;\n",
       "    }\n",
       "\n",
       "    .dataframe tbody tr th {\n",
       "        vertical-align: top;\n",
       "    }\n",
       "\n",
       "    .dataframe thead th {\n",
       "        text-align: right;\n",
       "    }\n",
       "</style>\n",
       "<table border=\"1\" class=\"dataframe\">\n",
       "  <thead>\n",
       "    <tr style=\"text-align: right;\">\n",
       "      <th></th>\n",
       "      <th>PlayerName</th>\n",
       "      <th>Salary</th>\n",
       "      <th>Name</th>\n",
       "      <th>Age</th>\n",
       "      <th>Team</th>\n",
       "      <th>Games</th>\n",
       "      <th>Rebounds</th>\n",
       "      <th>Assists</th>\n",
       "      <th>Steals</th>\n",
       "      <th>Blocks</th>\n",
       "      <th>Turnovers</th>\n",
       "      <th>Points</th>\n",
       "    </tr>\n",
       "  </thead>\n",
       "  <tbody>\n",
       "    <tr>\n",
       "      <th>0</th>\n",
       "      <td>Kobe Bryant</td>\n",
       "      <td>23500000</td>\n",
       "      <td>Kobe Bryant</td>\n",
       "      <td>36</td>\n",
       "      <td>LAL</td>\n",
       "      <td>35</td>\n",
       "      <td>199</td>\n",
       "      <td>197</td>\n",
       "      <td>47</td>\n",
       "      <td>7</td>\n",
       "      <td>128</td>\n",
       "      <td>782</td>\n",
       "    </tr>\n",
       "    <tr>\n",
       "      <th>1</th>\n",
       "      <td>Amar'e Stoudemire</td>\n",
       "      <td>23410988</td>\n",
       "      <td>Amar'e Stoudemire</td>\n",
       "      <td>32</td>\n",
       "      <td>TOT</td>\n",
       "      <td>59</td>\n",
       "      <td>329</td>\n",
       "      <td>45</td>\n",
       "      <td>29</td>\n",
       "      <td>38</td>\n",
       "      <td>78</td>\n",
       "      <td>680</td>\n",
       "    </tr>\n",
       "    <tr>\n",
       "      <th>2</th>\n",
       "      <td>Joe Johnson</td>\n",
       "      <td>23180790</td>\n",
       "      <td>Joe Johnson</td>\n",
       "      <td>33</td>\n",
       "      <td>BRK</td>\n",
       "      <td>80</td>\n",
       "      <td>384</td>\n",
       "      <td>292</td>\n",
       "      <td>59</td>\n",
       "      <td>14</td>\n",
       "      <td>137</td>\n",
       "      <td>1154</td>\n",
       "    </tr>\n",
       "  </tbody>\n",
       "</table>\n",
       "</div>"
      ],
      "text/plain": [
       "          PlayerName    Salary               Name  Age Team  Games  Rebounds  \\\n",
       "0        Kobe Bryant  23500000        Kobe Bryant   36  LAL     35       199   \n",
       "1  Amar'e Stoudemire  23410988  Amar'e Stoudemire   32  TOT     59       329   \n",
       "2        Joe Johnson  23180790        Joe Johnson   33  BRK     80       384   \n",
       "\n",
       "   Assists  Steals  Blocks  Turnovers  Points  \n",
       "0      197      47       7        128     782  \n",
       "1       45      29      38         78     680  \n",
       "2      292      59      14        137    1154  "
      ]
     },
     "execution_count": 27,
     "metadata": {},
     "output_type": "execute_result"
    }
   ],
   "source": [
    "player_data = pd.read_csv(\"player_data.csv\")\n",
    "salary_data = pd.read_csv(\"salary_data.csv\")\n",
    "full_data = salary_data.merge(player_data, left_on=\"PlayerName\", right_on=\"Name\")\n",
    "player_data.head(3)\n",
    "salary_data.head(3)\n",
    "full_data.head(3)"
   ]
  },
  {
   "cell_type": "markdown",
   "metadata": {},
   "source": [
    "Rather than getting data on every player, imagine that we had gotten data on only a smaller subset of the players.  For 492 players, it's not so unreasonable to expect to see all the data, but usually we aren't so lucky.  Instead, we often make *statistical inferences* about a large underlying population using a smaller sample.\n",
    "\n",
    "A statistical inference is a statement about some statistic of the underlying population, such as \"the average salary of NBA players in 2014 was $3\".  You may have heard the word \"inference\" used in other contexts.  It's important to keep in mind that statistical inferences, unlike, say, logical inferences, can be wrong.\n",
    "\n",
    "A general strategy for inference using samples is to estimate statistics of the population by computing the same statistics on a sample.  This strategy sometimes works well and sometimes doesn't.  The degree to which it gives us useful answers depends on several factors, and we'll touch lightly on a few of those today.\n",
    "\n",
    "One very important factor in the utility of samples is how they were gathered.  We have prepared some example sample datasets to simulate inference from different kinds of samples for the NBA player dataset.  Later we'll ask you to create your own samples to see how they behave."
   ]
  },
  {
   "cell_type": "markdown",
   "metadata": {},
   "source": [
    "To save typing and increase the clarity of your code, we will package the loading and analysis code into two functions. This will be useful in the rest of the lab as we will repeatedly need to create histograms and collect summary statistics from that data."
   ]
  },
  {
   "cell_type": "markdown",
   "metadata": {},
   "source": [
    "**Question 3.1**. Complete the `histograms` function, which takes a DataFrame with columns `Age` and `Salary` and draws a histogram for each one. Use the min and max functions to pick the bin boundaries so that all data appears for any DataFrame passed to your function. Use the same bin widths as before (1 year for `Age` and $1,000,000 for `Salary`).\n",
    "\n",
    "*Hint*: When creating the bins for the the histograms, think critically about what the stop argument should be for `np.arange`. Histograms are inclusive on the left hand side of the interval, but not the right. So, if we have a maximum age of 80, we need a 80-81 bin in order to capture this in the histogram. "
   ]
  },
  {
   "cell_type": "code",
   "execution_count": 28,
   "metadata": {
    "pycharm": {
     "name": "#%%\n"
    }
   },
   "outputs": [
    {
     "name": "stdout",
     "output_type": "stream",
     "text": [
      "Two histograms should be displayed below\n"
     ]
    },
    {
     "data": {
      "image/png": "[encoded data removed]",
      "text/plain": [
       "<Figure size 2400x1200 with 1 Axes>"
      ]
     },
     "metadata": {},
     "output_type": "display_data"
    },
    {
     "data": {
      "image/png": "[encoded data removed]",
      "text/plain": [
       "<Figure size 2400x1200 with 1 Axes>"
      ]
     },
     "metadata": {},
     "output_type": "display_data"
    }
   ],
   "source": [
    "def histograms(df):\n",
    "    ages = df['Age']\n",
    "    salaries = df['Salary']\n",
    "    age_bins = np.arange(min(ages), max(ages) + 2, 1)\n",
    "    salary_bins = np.arange(min(salaries), max(salaries) + 2000000, 1000000)\n",
    "    df.hist('Age', bins=age_bins)\n",
    "    df.hist('Salary', bins=salary_bins)\n",
    "    \n",
    "histograms(full_data)\n",
    "print('Two histograms should be displayed below')"
   ]
  },
  {
   "cell_type": "markdown",
   "metadata": {},
   "source": [
    "**Question 3.2**. Create a function called `compute_statistics` that takes a Table containing ages and salaries and:\n",
    "- Draws a histogram of ages\n",
    "- Draws a histogram of salaries\n",
    "- Returns a two-element array containing the average age and average salary\n",
    "\n",
    "You can call your `histograms` function to draw the histograms!"
   ]
  },
  {
   "cell_type": "code",
   "execution_count": 29,
   "metadata": {
    "pycharm": {
     "name": "#%%\n"
    }
   },
   "outputs": [
    {
     "data": {
      "text/plain": [
       "array([2.65365854e+01, 4.26977577e+06])"
      ]
     },
     "execution_count": 29,
     "metadata": {},
     "output_type": "execute_result"
    },
    {
     "data": {
      "image/png": "[encoded data removed]",
      "text/plain": [
       "<Figure size 2400x1200 with 1 Axes>"
      ]
     },
     "metadata": {},
     "output_type": "display_data"
    },
    {
     "data": {
      "image/png": "[encoded data removed]",
      "text/plain": [
       "<Figure size 2400x1200 with 1 Axes>"
      ]
     },
     "metadata": {},
     "output_type": "display_data"
    }
   ],
   "source": [
    "def compute_statistics(age_and_salary_data):\n",
    "    histograms(age_and_salary_data)\n",
    "    age = np.average(age_and_salary_data[\"Age\"])\n",
    "    salary = np.average(age_and_salary_data[\"Salary\"])\n",
    "    x = np.array([age, salary])\n",
    "    return x\n",
    "    \n",
    "\n",
    "full_stats = compute_statistics(full_data)\n",
    "full_stats"
   ]
  },
  {
   "cell_type": "markdown",
   "metadata": {},
   "source": [
    "### Convenience sampling\n",
    "One sampling methodology, which is **generally a bad idea**, is to choose players who are somehow convenient to sample.  For example, you might choose players from one team that's near your house, since it's easier to survey them.  This is called, somewhat pejoratively, *convenience sampling*.\n",
    "\n",
    "Suppose you survey only *relatively new* players with ages less than 22.  (The more experienced players didn't bother to answer your surveys about their salaries.)\n",
    "\n",
    "**Question 3.3**  Assign `convenience_sample_data` to a subset of `full_data` that contains only the rows for players under the age of 22."
   ]
  },
  {
   "cell_type": "code",
   "execution_count": 30,
   "metadata": {
    "pycharm": {
     "name": "#%%\n"
    }
   },
   "outputs": [
    {
     "data": {
      "text/html": [
       "<div>\n",
       "<style scoped>\n",
       "    .dataframe tbody tr th:only-of-type {\n",
       "        vertical-align: middle;\n",
       "    }\n",
       "\n",
       "    .dataframe tbody tr th {\n",
       "        vertical-align: top;\n",
       "    }\n",
       "\n",
       "    .dataframe thead th {\n",
       "        text-align: right;\n",
       "    }\n",
       "</style>\n",
       "<table border=\"1\" class=\"dataframe\">\n",
       "  <thead>\n",
       "    <tr style=\"text-align: right;\">\n",
       "      <th></th>\n",
       "      <th>PlayerName</th>\n",
       "      <th>Salary</th>\n",
       "      <th>Name</th>\n",
       "      <th>Age</th>\n",
       "      <th>Team</th>\n",
       "      <th>Games</th>\n",
       "      <th>Rebounds</th>\n",
       "      <th>Assists</th>\n",
       "      <th>Steals</th>\n",
       "      <th>Blocks</th>\n",
       "      <th>Turnovers</th>\n",
       "      <th>Points</th>\n",
       "    </tr>\n",
       "  </thead>\n",
       "  <tbody>\n",
       "    <tr>\n",
       "      <th>124</th>\n",
       "      <td>Anthony Davis</td>\n",
       "      <td>5607240</td>\n",
       "      <td>Anthony Davis</td>\n",
       "      <td>21</td>\n",
       "      <td>NOP</td>\n",
       "      <td>68</td>\n",
       "      <td>696</td>\n",
       "      <td>149</td>\n",
       "      <td>100</td>\n",
       "      <td>200</td>\n",
       "      <td>95</td>\n",
       "      <td>1656</td>\n",
       "    </tr>\n",
       "    <tr>\n",
       "      <th>125</th>\n",
       "      <td>Anthony Bennett</td>\n",
       "      <td>5563920</td>\n",
       "      <td>Anthony Bennett</td>\n",
       "      <td>21</td>\n",
       "      <td>MIN</td>\n",
       "      <td>57</td>\n",
       "      <td>216</td>\n",
       "      <td>48</td>\n",
       "      <td>27</td>\n",
       "      <td>16</td>\n",
       "      <td>36</td>\n",
       "      <td>298</td>\n",
       "    </tr>\n",
       "    <tr>\n",
       "      <th>126</th>\n",
       "      <td>Andrew Wiggins</td>\n",
       "      <td>5510640</td>\n",
       "      <td>Andrew Wiggins</td>\n",
       "      <td>19</td>\n",
       "      <td>MIN</td>\n",
       "      <td>82</td>\n",
       "      <td>374</td>\n",
       "      <td>170</td>\n",
       "      <td>86</td>\n",
       "      <td>50</td>\n",
       "      <td>177</td>\n",
       "      <td>1387</td>\n",
       "    </tr>\n",
       "    <tr>\n",
       "      <th>141</th>\n",
       "      <td>Michael Kidd-Gilchrist</td>\n",
       "      <td>5016960</td>\n",
       "      <td>Michael Kidd-Gilchrist</td>\n",
       "      <td>21</td>\n",
       "      <td>CHO</td>\n",
       "      <td>55</td>\n",
       "      <td>416</td>\n",
       "      <td>77</td>\n",
       "      <td>30</td>\n",
       "      <td>38</td>\n",
       "      <td>63</td>\n",
       "      <td>598</td>\n",
       "    </tr>\n",
       "    <tr>\n",
       "      <th>147</th>\n",
       "      <td>Jabari Parker</td>\n",
       "      <td>4930560</td>\n",
       "      <td>Jabari Parker</td>\n",
       "      <td>19</td>\n",
       "      <td>MIL</td>\n",
       "      <td>25</td>\n",
       "      <td>138</td>\n",
       "      <td>42</td>\n",
       "      <td>31</td>\n",
       "      <td>5</td>\n",
       "      <td>47</td>\n",
       "      <td>308</td>\n",
       "    </tr>\n",
       "    <tr>\n",
       "      <th>155</th>\n",
       "      <td>Bradley Beal</td>\n",
       "      <td>4505280</td>\n",
       "      <td>Bradley Beal</td>\n",
       "      <td>21</td>\n",
       "      <td>WAS</td>\n",
       "      <td>63</td>\n",
       "      <td>241</td>\n",
       "      <td>194</td>\n",
       "      <td>76</td>\n",
       "      <td>18</td>\n",
       "      <td>123</td>\n",
       "      <td>962</td>\n",
       "    </tr>\n",
       "    <tr>\n",
       "      <th>159</th>\n",
       "      <td>Otto Porter</td>\n",
       "      <td>4470480</td>\n",
       "      <td>Otto Porter</td>\n",
       "      <td>21</td>\n",
       "      <td>WAS</td>\n",
       "      <td>74</td>\n",
       "      <td>221</td>\n",
       "      <td>65</td>\n",
       "      <td>44</td>\n",
       "      <td>30</td>\n",
       "      <td>52</td>\n",
       "      <td>445</td>\n",
       "    </tr>\n",
       "    <tr>\n",
       "      <th>170</th>\n",
       "      <td>Aaron Gordon</td>\n",
       "      <td>3992040</td>\n",
       "      <td>Aaron Gordon</td>\n",
       "      <td>19</td>\n",
       "      <td>ORL</td>\n",
       "      <td>47</td>\n",
       "      <td>169</td>\n",
       "      <td>33</td>\n",
       "      <td>21</td>\n",
       "      <td>22</td>\n",
       "      <td>38</td>\n",
       "      <td>243</td>\n",
       "    </tr>\n",
       "    <tr>\n",
       "      <th>183</th>\n",
       "      <td>Alex Len</td>\n",
       "      <td>3649920</td>\n",
       "      <td>Alex Len</td>\n",
       "      <td>21</td>\n",
       "      <td>PHO</td>\n",
       "      <td>69</td>\n",
       "      <td>454</td>\n",
       "      <td>32</td>\n",
       "      <td>34</td>\n",
       "      <td>105</td>\n",
       "      <td>74</td>\n",
       "      <td>432</td>\n",
       "    </tr>\n",
       "    <tr>\n",
       "      <th>184</th>\n",
       "      <td>Dante Exum</td>\n",
       "      <td>3615000</td>\n",
       "      <td>Dante Exum</td>\n",
       "      <td>19</td>\n",
       "      <td>UTA</td>\n",
       "      <td>82</td>\n",
       "      <td>131</td>\n",
       "      <td>198</td>\n",
       "      <td>41</td>\n",
       "      <td>14</td>\n",
       "      <td>118</td>\n",
       "      <td>393</td>\n",
       "    </tr>\n",
       "    <tr>\n",
       "      <th>196</th>\n",
       "      <td>Nerlens Noel</td>\n",
       "      <td>3315120</td>\n",
       "      <td>Nerlens Noel</td>\n",
       "      <td>20</td>\n",
       "      <td>PHI</td>\n",
       "      <td>75</td>\n",
       "      <td>611</td>\n",
       "      <td>128</td>\n",
       "      <td>133</td>\n",
       "      <td>142</td>\n",
       "      <td>146</td>\n",
       "      <td>744</td>\n",
       "    </tr>\n",
       "    <tr>\n",
       "      <th>197</th>\n",
       "      <td>Marcus Smart</td>\n",
       "      <td>3283320</td>\n",
       "      <td>Marcus Smart</td>\n",
       "      <td>20</td>\n",
       "      <td>BOS</td>\n",
       "      <td>67</td>\n",
       "      <td>222</td>\n",
       "      <td>208</td>\n",
       "      <td>99</td>\n",
       "      <td>18</td>\n",
       "      <td>90</td>\n",
       "      <td>523</td>\n",
       "    </tr>\n",
       "    <tr>\n",
       "      <th>213</th>\n",
       "      <td>Ben McLemore</td>\n",
       "      <td>3026280</td>\n",
       "      <td>Ben McLemore</td>\n",
       "      <td>21</td>\n",
       "      <td>SAC</td>\n",
       "      <td>82</td>\n",
       "      <td>241</td>\n",
       "      <td>140</td>\n",
       "      <td>77</td>\n",
       "      <td>19</td>\n",
       "      <td>138</td>\n",
       "      <td>996</td>\n",
       "    </tr>\n",
       "    <tr>\n",
       "      <th>219</th>\n",
       "      <td>Julius Randle</td>\n",
       "      <td>2997360</td>\n",
       "      <td>Julius Randle</td>\n",
       "      <td>20</td>\n",
       "      <td>LAL</td>\n",
       "      <td>1</td>\n",
       "      <td>0</td>\n",
       "      <td>0</td>\n",
       "      <td>0</td>\n",
       "      <td>0</td>\n",
       "      <td>1</td>\n",
       "      <td>2</td>\n",
       "    </tr>\n",
       "    <tr>\n",
       "      <th>226</th>\n",
       "      <td>Kentavious Caldwell-Pope</td>\n",
       "      <td>2772480</td>\n",
       "      <td>Kentavious Caldwell-Pope</td>\n",
       "      <td>21</td>\n",
       "      <td>DET</td>\n",
       "      <td>82</td>\n",
       "      <td>255</td>\n",
       "      <td>109</td>\n",
       "      <td>93</td>\n",
       "      <td>18</td>\n",
       "      <td>94</td>\n",
       "      <td>1043</td>\n",
       "    </tr>\n",
       "    <tr>\n",
       "      <th>229</th>\n",
       "      <td>Nik Stauskas</td>\n",
       "      <td>2745840</td>\n",
       "      <td>Nik Stauskas</td>\n",
       "      <td>21</td>\n",
       "      <td>SAC</td>\n",
       "      <td>73</td>\n",
       "      <td>88</td>\n",
       "      <td>67</td>\n",
       "      <td>20</td>\n",
       "      <td>17</td>\n",
       "      <td>40</td>\n",
       "      <td>319</td>\n",
       "    </tr>\n",
       "    <tr>\n",
       "      <th>236</th>\n",
       "      <td>Andre Drummond</td>\n",
       "      <td>2568360</td>\n",
       "      <td>Andre Drummond</td>\n",
       "      <td>21</td>\n",
       "      <td>DET</td>\n",
       "      <td>82</td>\n",
       "      <td>1104</td>\n",
       "      <td>55</td>\n",
       "      <td>73</td>\n",
       "      <td>153</td>\n",
       "      <td>120</td>\n",
       "      <td>1130</td>\n",
       "    </tr>\n",
       "    <tr>\n",
       "      <th>238</th>\n",
       "      <td>Noah Vonleh</td>\n",
       "      <td>2524200</td>\n",
       "      <td>Noah Vonleh</td>\n",
       "      <td>19</td>\n",
       "      <td>CHO</td>\n",
       "      <td>25</td>\n",
       "      <td>86</td>\n",
       "      <td>4</td>\n",
       "      <td>4</td>\n",
       "      <td>9</td>\n",
       "      <td>11</td>\n",
       "      <td>83</td>\n",
       "    </tr>\n",
       "    <tr>\n",
       "      <th>244</th>\n",
       "      <td>Elfrid Payton</td>\n",
       "      <td>2397840</td>\n",
       "      <td>Elfrid Payton</td>\n",
       "      <td>20</td>\n",
       "      <td>ORL</td>\n",
       "      <td>82</td>\n",
       "      <td>349</td>\n",
       "      <td>533</td>\n",
       "      <td>142</td>\n",
       "      <td>20</td>\n",
       "      <td>203</td>\n",
       "      <td>731</td>\n",
       "    </tr>\n",
       "    <tr>\n",
       "      <th>254</th>\n",
       "      <td>Steven Adams</td>\n",
       "      <td>2184960</td>\n",
       "      <td>Steven Adams</td>\n",
       "      <td>21</td>\n",
       "      <td>OKC</td>\n",
       "      <td>70</td>\n",
       "      <td>523</td>\n",
       "      <td>66</td>\n",
       "      <td>38</td>\n",
       "      <td>86</td>\n",
       "      <td>99</td>\n",
       "      <td>537</td>\n",
       "    </tr>\n",
       "    <tr>\n",
       "      <th>264</th>\n",
       "      <td>Zach LaVine</td>\n",
       "      <td>2055840</td>\n",
       "      <td>Zach LaVine</td>\n",
       "      <td>19</td>\n",
       "      <td>MIN</td>\n",
       "      <td>77</td>\n",
       "      <td>214</td>\n",
       "      <td>276</td>\n",
       "      <td>54</td>\n",
       "      <td>10</td>\n",
       "      <td>193</td>\n",
       "      <td>778</td>\n",
       "    </tr>\n",
       "    <tr>\n",
       "      <th>274</th>\n",
       "      <td>T.J. Warren</td>\n",
       "      <td>1953120</td>\n",
       "      <td>T.J. Warren</td>\n",
       "      <td>21</td>\n",
       "      <td>PHO</td>\n",
       "      <td>40</td>\n",
       "      <td>85</td>\n",
       "      <td>25</td>\n",
       "      <td>18</td>\n",
       "      <td>9</td>\n",
       "      <td>27</td>\n",
       "      <td>245</td>\n",
       "    </tr>\n",
       "    <tr>\n",
       "      <th>275</th>\n",
       "      <td>Maurice Harkless</td>\n",
       "      <td>1887840</td>\n",
       "      <td>Maurice Harkless</td>\n",
       "      <td>21</td>\n",
       "      <td>ORL</td>\n",
       "      <td>45</td>\n",
       "      <td>106</td>\n",
       "      <td>25</td>\n",
       "      <td>32</td>\n",
       "      <td>9</td>\n",
       "      <td>27</td>\n",
       "      <td>158</td>\n",
       "    </tr>\n",
       "    <tr>\n",
       "      <th>276</th>\n",
       "      <td>Giannis Antetokounmpo</td>\n",
       "      <td>1873200</td>\n",
       "      <td>Giannis Antetokounmpo</td>\n",
       "      <td>20</td>\n",
       "      <td>MIL</td>\n",
       "      <td>81</td>\n",
       "      <td>542</td>\n",
       "      <td>207</td>\n",
       "      <td>73</td>\n",
       "      <td>85</td>\n",
       "      <td>173</td>\n",
       "      <td>1030</td>\n",
       "    </tr>\n",
       "    <tr>\n",
       "      <th>282</th>\n",
       "      <td>Jusuf Nurkic</td>\n",
       "      <td>1762680</td>\n",
       "      <td>Jusuf Nurkic</td>\n",
       "      <td>20</td>\n",
       "      <td>DEN</td>\n",
       "      <td>62</td>\n",
       "      <td>382</td>\n",
       "      <td>50</td>\n",
       "      <td>52</td>\n",
       "      <td>68</td>\n",
       "      <td>86</td>\n",
       "      <td>426</td>\n",
       "    </tr>\n",
       "    <tr>\n",
       "      <th>286</th>\n",
       "      <td>Dennis Schroder</td>\n",
       "      <td>1690680</td>\n",
       "      <td>Dennis Schroder</td>\n",
       "      <td>21</td>\n",
       "      <td>ATL</td>\n",
       "      <td>77</td>\n",
       "      <td>164</td>\n",
       "      <td>317</td>\n",
       "      <td>49</td>\n",
       "      <td>4</td>\n",
       "      <td>150</td>\n",
       "      <td>768</td>\n",
       "    </tr>\n",
       "    <tr>\n",
       "      <th>287</th>\n",
       "      <td>James Young</td>\n",
       "      <td>1674480</td>\n",
       "      <td>James Young</td>\n",
       "      <td>19</td>\n",
       "      <td>BOS</td>\n",
       "      <td>31</td>\n",
       "      <td>42</td>\n",
       "      <td>13</td>\n",
       "      <td>8</td>\n",
       "      <td>2</td>\n",
       "      <td>5</td>\n",
       "      <td>105</td>\n",
       "    </tr>\n",
       "    <tr>\n",
       "      <th>292</th>\n",
       "      <td>Tyler Ennis</td>\n",
       "      <td>1590720</td>\n",
       "      <td>Tyler Ennis</td>\n",
       "      <td>20</td>\n",
       "      <td>TOT</td>\n",
       "      <td>33</td>\n",
       "      <td>35</td>\n",
       "      <td>73</td>\n",
       "      <td>18</td>\n",
       "      <td>5</td>\n",
       "      <td>42</td>\n",
       "      <td>121</td>\n",
       "    </tr>\n",
       "    <tr>\n",
       "      <th>294</th>\n",
       "      <td>Sergey Karasev</td>\n",
       "      <td>1533840</td>\n",
       "      <td>Sergey Karasev</td>\n",
       "      <td>21</td>\n",
       "      <td>BRK</td>\n",
       "      <td>33</td>\n",
       "      <td>66</td>\n",
       "      <td>46</td>\n",
       "      <td>23</td>\n",
       "      <td>1</td>\n",
       "      <td>24</td>\n",
       "      <td>153</td>\n",
       "    </tr>\n",
       "    <tr>\n",
       "      <th>295</th>\n",
       "      <td>Gary Harris</td>\n",
       "      <td>1519200</td>\n",
       "      <td>Gary Harris</td>\n",
       "      <td>20</td>\n",
       "      <td>DEN</td>\n",
       "      <td>55</td>\n",
       "      <td>64</td>\n",
       "      <td>29</td>\n",
       "      <td>39</td>\n",
       "      <td>7</td>\n",
       "      <td>38</td>\n",
       "      <td>188</td>\n",
       "    </tr>\n",
       "    <tr>\n",
       "      <th>300</th>\n",
       "      <td>Bruno Caboclo</td>\n",
       "      <td>1458360</td>\n",
       "      <td>Bruno Caboclo</td>\n",
       "      <td>19</td>\n",
       "      <td>TOR</td>\n",
       "      <td>8</td>\n",
       "      <td>2</td>\n",
       "      <td>0</td>\n",
       "      <td>0</td>\n",
       "      <td>1</td>\n",
       "      <td>4</td>\n",
       "      <td>10</td>\n",
       "    </tr>\n",
       "    <tr>\n",
       "      <th>316</th>\n",
       "      <td>Jordan Adams</td>\n",
       "      <td>1344120</td>\n",
       "      <td>Jordan Adams</td>\n",
       "      <td>20</td>\n",
       "      <td>MEM</td>\n",
       "      <td>30</td>\n",
       "      <td>28</td>\n",
       "      <td>16</td>\n",
       "      <td>16</td>\n",
       "      <td>7</td>\n",
       "      <td>14</td>\n",
       "      <td>94</td>\n",
       "    </tr>\n",
       "    <tr>\n",
       "      <th>336</th>\n",
       "      <td>Tony Wroten</td>\n",
       "      <td>1210080</td>\n",
       "      <td>Tony Wroten</td>\n",
       "      <td>21</td>\n",
       "      <td>PHI</td>\n",
       "      <td>30</td>\n",
       "      <td>86</td>\n",
       "      <td>157</td>\n",
       "      <td>48</td>\n",
       "      <td>8</td>\n",
       "      <td>113</td>\n",
       "      <td>507</td>\n",
       "    </tr>\n",
       "    <tr>\n",
       "      <th>338</th>\n",
       "      <td>Clint Capela</td>\n",
       "      <td>1189200</td>\n",
       "      <td>Clint Capela</td>\n",
       "      <td>20</td>\n",
       "      <td>HOU</td>\n",
       "      <td>12</td>\n",
       "      <td>36</td>\n",
       "      <td>2</td>\n",
       "      <td>1</td>\n",
       "      <td>9</td>\n",
       "      <td>5</td>\n",
       "      <td>32</td>\n",
       "    </tr>\n",
       "    <tr>\n",
       "      <th>348</th>\n",
       "      <td>Archie Goodwin</td>\n",
       "      <td>1112280</td>\n",
       "      <td>Archie Goodwin</td>\n",
       "      <td>20</td>\n",
       "      <td>PHO</td>\n",
       "      <td>41</td>\n",
       "      <td>74</td>\n",
       "      <td>44</td>\n",
       "      <td>18</td>\n",
       "      <td>9</td>\n",
       "      <td>48</td>\n",
       "      <td>231</td>\n",
       "    </tr>\n",
       "    <tr>\n",
       "      <th>352</th>\n",
       "      <td>Kyle Anderson</td>\n",
       "      <td>1093680</td>\n",
       "      <td>Kyle Anderson</td>\n",
       "      <td>21</td>\n",
       "      <td>SAS</td>\n",
       "      <td>33</td>\n",
       "      <td>72</td>\n",
       "      <td>28</td>\n",
       "      <td>15</td>\n",
       "      <td>7</td>\n",
       "      <td>10</td>\n",
       "      <td>74</td>\n",
       "    </tr>\n",
       "    <tr>\n",
       "      <th>396</th>\n",
       "      <td>Jerami Grant</td>\n",
       "      <td>884879</td>\n",
       "      <td>Jerami Grant</td>\n",
       "      <td>20</td>\n",
       "      <td>PHI</td>\n",
       "      <td>65</td>\n",
       "      <td>198</td>\n",
       "      <td>79</td>\n",
       "      <td>40</td>\n",
       "      <td>68</td>\n",
       "      <td>85</td>\n",
       "      <td>411</td>\n",
       "    </tr>\n",
       "    <tr>\n",
       "      <th>421</th>\n",
       "      <td>Grant Jerrett</td>\n",
       "      <td>816481</td>\n",
       "      <td>Grant Jerrett</td>\n",
       "      <td>21</td>\n",
       "      <td>TOT</td>\n",
       "      <td>8</td>\n",
       "      <td>9</td>\n",
       "      <td>3</td>\n",
       "      <td>2</td>\n",
       "      <td>2</td>\n",
       "      <td>3</td>\n",
       "      <td>16</td>\n",
       "    </tr>\n",
       "    <tr>\n",
       "      <th>424</th>\n",
       "      <td>Jarnell Stokes</td>\n",
       "      <td>725000</td>\n",
       "      <td>Jarnell Stokes</td>\n",
       "      <td>21</td>\n",
       "      <td>MEM</td>\n",
       "      <td>19</td>\n",
       "      <td>34</td>\n",
       "      <td>4</td>\n",
       "      <td>5</td>\n",
       "      <td>5</td>\n",
       "      <td>7</td>\n",
       "      <td>57</td>\n",
       "    </tr>\n",
       "    <tr>\n",
       "      <th>426</th>\n",
       "      <td>Spencer Dinwiddie</td>\n",
       "      <td>700000</td>\n",
       "      <td>Spencer Dinwiddie</td>\n",
       "      <td>21</td>\n",
       "      <td>DET</td>\n",
       "      <td>34</td>\n",
       "      <td>48</td>\n",
       "      <td>104</td>\n",
       "      <td>19</td>\n",
       "      <td>6</td>\n",
       "      <td>33</td>\n",
       "      <td>145</td>\n",
       "    </tr>\n",
       "    <tr>\n",
       "      <th>429</th>\n",
       "      <td>Johnny O'Bryant</td>\n",
       "      <td>600000</td>\n",
       "      <td>Johnny O'Bryant</td>\n",
       "      <td>21</td>\n",
       "      <td>MIL</td>\n",
       "      <td>34</td>\n",
       "      <td>64</td>\n",
       "      <td>17</td>\n",
       "      <td>5</td>\n",
       "      <td>4</td>\n",
       "      <td>25</td>\n",
       "      <td>100</td>\n",
       "    </tr>\n",
       "    <tr>\n",
       "      <th>435</th>\n",
       "      <td>K.J. McDaniels</td>\n",
       "      <td>507336</td>\n",
       "      <td>K.J. McDaniels</td>\n",
       "      <td>21</td>\n",
       "      <td>TOT</td>\n",
       "      <td>62</td>\n",
       "      <td>200</td>\n",
       "      <td>72</td>\n",
       "      <td>44</td>\n",
       "      <td>70</td>\n",
       "      <td>105</td>\n",
       "      <td>487</td>\n",
       "    </tr>\n",
       "    <tr>\n",
       "      <th>437</th>\n",
       "      <td>JaKarr Sampson</td>\n",
       "      <td>507336</td>\n",
       "      <td>JaKarr Sampson</td>\n",
       "      <td>21</td>\n",
       "      <td>PHI</td>\n",
       "      <td>74</td>\n",
       "      <td>163</td>\n",
       "      <td>77</td>\n",
       "      <td>38</td>\n",
       "      <td>26</td>\n",
       "      <td>76</td>\n",
       "      <td>386</td>\n",
       "    </tr>\n",
       "    <tr>\n",
       "      <th>440</th>\n",
       "      <td>Glenn Robinson III</td>\n",
       "      <td>507336</td>\n",
       "      <td>Glenn Robinson III</td>\n",
       "      <td>21</td>\n",
       "      <td>TOT</td>\n",
       "      <td>35</td>\n",
       "      <td>39</td>\n",
       "      <td>11</td>\n",
       "      <td>6</td>\n",
       "      <td>1</td>\n",
       "      <td>11</td>\n",
       "      <td>73</td>\n",
       "    </tr>\n",
       "  </tbody>\n",
       "</table>\n",
       "</div>"
      ],
      "text/plain": [
       "                   PlayerName   Salary                      Name  Age Team  \\\n",
       "124             Anthony Davis  5607240             Anthony Davis   21  NOP   \n",
       "125           Anthony Bennett  5563920           Anthony Bennett   21  MIN   \n",
       "126            Andrew Wiggins  5510640            Andrew Wiggins   19  MIN   \n",
       "141    Michael Kidd-Gilchrist  5016960    Michael Kidd-Gilchrist   21  CHO   \n",
       "147             Jabari Parker  4930560             Jabari Parker   19  MIL   \n",
       "155              Bradley Beal  4505280              Bradley Beal   21  WAS   \n",
       "159               Otto Porter  4470480               Otto Porter   21  WAS   \n",
       "170              Aaron Gordon  3992040              Aaron Gordon   19  ORL   \n",
       "183                  Alex Len  3649920                  Alex Len   21  PHO   \n",
       "184                Dante Exum  3615000                Dante Exum   19  UTA   \n",
       "196              Nerlens Noel  3315120              Nerlens Noel   20  PHI   \n",
       "197              Marcus Smart  3283320              Marcus Smart   20  BOS   \n",
       "213              Ben McLemore  3026280              Ben McLemore   21  SAC   \n",
       "219             Julius Randle  2997360             Julius Randle   20  LAL   \n",
       "226  Kentavious Caldwell-Pope  2772480  Kentavious Caldwell-Pope   21  DET   \n",
       "229              Nik Stauskas  2745840              Nik Stauskas   21  SAC   \n",
       "236            Andre Drummond  2568360            Andre Drummond   21  DET   \n",
       "238               Noah Vonleh  2524200               Noah Vonleh   19  CHO   \n",
       "244             Elfrid Payton  2397840             Elfrid Payton   20  ORL   \n",
       "254              Steven Adams  2184960              Steven Adams   21  OKC   \n",
       "264               Zach LaVine  2055840               Zach LaVine   19  MIN   \n",
       "274               T.J. Warren  1953120               T.J. Warren   21  PHO   \n",
       "275          Maurice Harkless  1887840          Maurice Harkless   21  ORL   \n",
       "276     Giannis Antetokounmpo  1873200     Giannis Antetokounmpo   20  MIL   \n",
       "282              Jusuf Nurkic  1762680              Jusuf Nurkic   20  DEN   \n",
       "286           Dennis Schroder  1690680           Dennis Schroder   21  ATL   \n",
       "287               James Young  1674480               James Young   19  BOS   \n",
       "292               Tyler Ennis  1590720               Tyler Ennis   20  TOT   \n",
       "294            Sergey Karasev  1533840            Sergey Karasev   21  BRK   \n",
       "295               Gary Harris  1519200               Gary Harris   20  DEN   \n",
       "300             Bruno Caboclo  1458360             Bruno Caboclo   19  TOR   \n",
       "316              Jordan Adams  1344120              Jordan Adams   20  MEM   \n",
       "336               Tony Wroten  1210080               Tony Wroten   21  PHI   \n",
       "338              Clint Capela  1189200              Clint Capela   20  HOU   \n",
       "348            Archie Goodwin  1112280            Archie Goodwin   20  PHO   \n",
       "352             Kyle Anderson  1093680             Kyle Anderson   21  SAS   \n",
       "396              Jerami Grant   884879              Jerami Grant   20  PHI   \n",
       "421             Grant Jerrett   816481             Grant Jerrett   21  TOT   \n",
       "424            Jarnell Stokes   725000            Jarnell Stokes   21  MEM   \n",
       "426         Spencer Dinwiddie   700000         Spencer Dinwiddie   21  DET   \n",
       "429           Johnny O'Bryant   600000           Johnny O'Bryant   21  MIL   \n",
       "435            K.J. McDaniels   507336            K.J. McDaniels   21  TOT   \n",
       "437            JaKarr Sampson   507336            JaKarr Sampson   21  PHI   \n",
       "440        Glenn Robinson III   507336        Glenn Robinson III   21  TOT   \n",
       "\n",
       "     Games  Rebounds  Assists  Steals  Blocks  Turnovers  Points  \n",
       "124     68       696      149     100     200         95    1656  \n",
       "125     57       216       48      27      16         36     298  \n",
       "126     82       374      170      86      50        177    1387  \n",
       "141     55       416       77      30      38         63     598  \n",
       "147     25       138       42      31       5         47     308  \n",
       "155     63       241      194      76      18        123     962  \n",
       "159     74       221       65      44      30         52     445  \n",
       "170     47       169       33      21      22         38     243  \n",
       "183     69       454       32      34     105         74     432  \n",
       "184     82       131      198      41      14        118     393  \n",
       "196     75       611      128     133     142        146     744  \n",
       "197     67       222      208      99      18         90     523  \n",
       "213     82       241      140      77      19        138     996  \n",
       "219      1         0        0       0       0          1       2  \n",
       "226     82       255      109      93      18         94    1043  \n",
       "229     73        88       67      20      17         40     319  \n",
       "236     82      1104       55      73     153        120    1130  \n",
       "238     25        86        4       4       9         11      83  \n",
       "244     82       349      533     142      20        203     731  \n",
       "254     70       523       66      38      86         99     537  \n",
       "264     77       214      276      54      10        193     778  \n",
       "274     40        85       25      18       9         27     245  \n",
       "275     45       106       25      32       9         27     158  \n",
       "276     81       542      207      73      85        173    1030  \n",
       "282     62       382       50      52      68         86     426  \n",
       "286     77       164      317      49       4        150     768  \n",
       "287     31        42       13       8       2          5     105  \n",
       "292     33        35       73      18       5         42     121  \n",
       "294     33        66       46      23       1         24     153  \n",
       "295     55        64       29      39       7         38     188  \n",
       "300      8         2        0       0       1          4      10  \n",
       "316     30        28       16      16       7         14      94  \n",
       "336     30        86      157      48       8        113     507  \n",
       "338     12        36        2       1       9          5      32  \n",
       "348     41        74       44      18       9         48     231  \n",
       "352     33        72       28      15       7         10      74  \n",
       "396     65       198       79      40      68         85     411  \n",
       "421      8         9        3       2       2          3      16  \n",
       "424     19        34        4       5       5          7      57  \n",
       "426     34        48      104      19       6         33     145  \n",
       "429     34        64       17       5       4         25     100  \n",
       "435     62       200       72      44      70        105     487  \n",
       "437     74       163       77      38      26         76     386  \n",
       "440     35        39       11       6       1         11      73  "
      ]
     },
     "execution_count": 30,
     "metadata": {},
     "output_type": "execute_result"
    }
   ],
   "source": [
    "convenience_sample = full_data[full_data['Age'] < 22]\n",
    "convenience_sample"
   ]
  },
  {
   "cell_type": "markdown",
   "metadata": {},
   "source": [
    "**Question 3.4** Assign `convenience_stats` to a list of the average age and average salary of your convenience sample, using the `compute_statistics` function.  Since they're computed on a sample, these are called *sample averages*. "
   ]
  },
  {
   "cell_type": "code",
   "execution_count": 31,
   "metadata": {
    "pycharm": {
     "name": "#%%\n"
    }
   },
   "outputs": [
    {
     "data": {
      "text/plain": [
       "array([2.03636364e+01, 2.38353382e+06])"
      ]
     },
     "execution_count": 31,
     "metadata": {},
     "output_type": "execute_result"
    },
    {
     "data": {
      "image/png": "[encoded data removed]",
      "text/plain": [
       "<Figure size 2400x1200 with 1 Axes>"
      ]
     },
     "metadata": {},
     "output_type": "display_data"
    },
    {
     "data": {
      "image/png": "[encoded data removed]",
      "text/plain": [
       "<Figure size 2400x1200 with 1 Axes>"
      ]
     },
     "metadata": {},
     "output_type": "display_data"
    }
   ],
   "source": [
    "convenience_stats = compute_statistics(convenience_sample)\n",
    "convenience_stats"
   ]
  },
  {
   "cell_type": "markdown",
   "metadata": {},
   "source": [
    "Next, we'll compare the convenience sample salaries with the full data salaries in a single histogram. The following cell should not require any changes; just run it."
   ]
  },
  {
   "cell_type": "code",
   "execution_count": 32,
   "metadata": {
    "pycharm": {
     "name": "#%%\n"
    }
   },
   "outputs": [
    {
     "data": {
      "image/png": "[encoded data removed]",
      "text/plain": [
       "<Figure size 2400x1200 with 1 Axes>"
      ]
     },
     "metadata": {},
     "output_type": "display_data"
    }
   ],
   "source": [
    "def compare_salaries(first, second, first_title, second_title):\n",
    "    \"\"\"Compare the salaries in two tables.\"\"\"\n",
    "    max_salary = max(np.append(first['Salary'], second['Salary']))\n",
    "    bins = np.arange(0, max_salary+1e6, 1e6)\n",
    "    plots.hist(first.Salary, weights=np.ones(len(first.Salary)) / len(first.Salary), bins=bins)\n",
    "    plots.hist(second.Salary, weights=np.ones(len(second.Salary)) / len(second.Salary), bins=bins, alpha=0.8)\n",
    "\n",
    "compare_salaries(full_data, convenience_sample, 'All Players', 'Convenience Sample')"
   ]
  },
  {
   "cell_type": "markdown",
   "metadata": {},
   "source": [
    "Does the convenience sample give us an accurate picture of the age and salary of the full population of NBA players in 2014-2015?  Would you expect it to, in general?"
   ]
  },
  {
   "cell_type": "markdown",
   "metadata": {},
   "source": [
    "### Simple random sampling\n",
    "A more principled approach is to sample uniformly at random from the players.  If we ensure that each player is selected at most once, this is a *simple random sample without replacement*, sometimes abbreviated to \"simple random sample\" or \"SRSWOR\".  Imagine writing down each player's name on a card, putting the cards in an urn, and shuffling the urn.  Then, pull out cards one by one and set them aside, stopping when the specified *sample size* is reached.\n",
    "\n",
    "We've produced two samples of the `salary_data` table in this way: `small_srswor_salary.csv` and `large_srswor_salary.csv` contain, respectively, a sample of size 44 (the same as the convenience sample) and a larger sample of size 100.  \n",
    "\n",
    "The `load_data` function below loads a salary table and joins it with `player_data`."
   ]
  },
  {
   "cell_type": "code",
   "execution_count": 34,
   "metadata": {
    "pycharm": {
     "name": "#%%\n"
    }
   },
   "outputs": [],
   "source": [
    "def load_data(salary_file):\n",
    "    return player_data.merge(pd.read_csv(salary_file), left_on='Name', right_on='PlayerName')"
   ]
  },
  {
   "cell_type": "markdown",
   "metadata": {},
   "source": [
    "**Question 3.6** Run the same analyses on the small and large samples that you previously ran on the full dataset and on the convenience sample.  Which is more accurate, the estimate of population statistics that we get from the convenience sample, the estimate from the small simple random sample, or the estimate from the large simple random sample?"
   ]
  },
  {
   "cell_type": "code",
   "execution_count": 35,
   "metadata": {
    "pycharm": {
     "name": "#%%\n"
    }
   },
   "outputs": [
    {
     "name": "stdout",
     "output_type": "stream",
     "text": [
      "Full data stats:                  [2.65365854e+01 4.26977577e+06]\n",
      "Small simple random sample stats: [2.63181818e+01 4.28391089e+06]\n",
      "Large simple random sample stats: [2.6420000e+01 4.8213225e+06]\n"
     ]
    },
    {
     "data": {
      "image/png": "[encoded data removed]",
      "text/plain": [
       "<Figure size 2400x1200 with 1 Axes>"
      ]
     },
     "metadata": {},
     "output_type": "display_data"
    },
    {
     "data": {
      "image/png": "[encoded data removed]",
      "text/plain": [
       "<Figure size 2400x1200 with 1 Axes>"
      ]
     },
     "metadata": {},
     "output_type": "display_data"
    },
    {
     "data": {
      "image/png": "[encoded data removed]",
      "text/plain": [
       "<Figure size 2400x1200 with 1 Axes>"
      ]
     },
     "metadata": {},
     "output_type": "display_data"
    },
    {
     "data": {
      "image/png": "[encoded data removed]",
      "text/plain": [
       "<Figure size 2400x1200 with 1 Axes>"
      ]
     },
     "metadata": {},
     "output_type": "display_data"
    }
   ],
   "source": [
    "# Original:\n",
    "small_srswor_data = load_data(\"small_srswor_salary.csv\")\n",
    "small_stats = compute_statistics(small_srswor_data)\n",
    "large_srswor_data = load_data(\"large_srswor_salary.csv\")\n",
    "large_stats = compute_statistics(large_srswor_data)\n",
    "print('Full data stats:                 ', full_stats)\n",
    "print('Small simple random sample stats:', small_stats)\n",
    "print('Large simple random sample stats:', large_stats)"
   ]
  },
  {
   "cell_type": "markdown",
   "metadata": {},
   "source": [
    "### Producing simple random samples\n",
    "Often it's useful to take random samples even when we have a larger dataset available. Another is to help us understand how inaccurate other samples are.\n",
    "\n",
    "Tables provide the method `sample()` for producing random samples.  Note that its default is to sample with replacement. To see how to call `sample()`, search the documentation on the [datascience documentation](http://data8.org/datascience/) of the course website, or enter `full_data.sample?` into a code cell and press Shift + Enter."
   ]
  },
  {
   "cell_type": "markdown",
   "metadata": {},
   "source": [
    "**Question 3.7** Produce a simple random sample of size 44 from `full_data`.  (You don't need to bother with a join this time -- just use `full_data.sample(...)` directly.  That will have the same result as sampling from `salary_data` and joining with `player_data`.)  Run your analysis on it again.  \n",
    "- Are your results roughly similar to those in the small sample we provided you?  Run your code several times to get new samples.  \n",
    "- How much does the average age change across samples? \n",
    "- What about average salary?"
   ]
  },
  {
   "cell_type": "code",
   "execution_count": 42,
   "metadata": {
    "pycharm": {
     "name": "#%%\n"
    }
   },
   "outputs": [
    {
     "data": {
      "text/plain": [
       "array([2.66136364e+01, 3.75107034e+06])"
      ]
     },
     "execution_count": 42,
     "metadata": {},
     "output_type": "execute_result"
    },
    {
     "data": {
      "image/png": "[encoded data removed]",
      "text/plain": [
       "<Figure size 2400x1200 with 1 Axes>"
      ]
     },
     "metadata": {},
     "output_type": "display_data"
    },
    {
     "data": {
      "image/png": "[encoded data removed]",
      "text/plain": [
       "<Figure size 2400x1200 with 1 Axes>"
      ]
     },
     "metadata": {},
     "output_type": "display_data"
    }
   ],
   "source": [
    "my_small_srswor_data = full_data.sample(44)\n",
    "my_small_stats = compute_statistics(my_small_srswor_data)\n",
    "my_small_stats"
   ]
  },
  {
   "cell_type": "markdown",
   "metadata": {},
   "source": [
    "## US Election Use Case\n",
    "\n",
    "The outcome of the US presidential election in 2016 took many people and many pollsters by surprise. In this assignment we will carry out a simulation study / post mortem in an attempt to understand what happened. Doing such an analysis is especially important even though the 2020 federal elections have already occurred."
   ]
  },
  {
   "cell_type": "markdown",
   "metadata": {},
   "source": [
    "## `SciPy` and `special` ##"
   ]
  },
  {
   "cell_type": "markdown",
   "metadata": {},
   "source": [
    "Factorials and the *binomial coefficients* $\\binom{n}{k} = \\frac{n!}{k!(n-k)!}$ get large very quickly as $n$ gets large. One way to compute them is to use the `SciPy` module `special`. `SciPy` is a collection of Python-based software for math, probability, statistics, science, and engineering."
   ]
  },
  {
   "cell_type": "code",
   "execution_count": 43,
   "metadata": {
    "pycharm": {
     "name": "#%%\n"
    }
   },
   "outputs": [],
   "source": [
    "from scipy import special"
   ]
  },
  {
   "cell_type": "markdown",
   "metadata": {},
   "source": [
    "Below are some examples of `special.factorial`:"
   ]
  },
  {
   "cell_type": "code",
   "execution_count": 44,
   "metadata": {
    "pycharm": {
     "name": "#%%\n"
    }
   },
   "outputs": [
    {
     "data": {
      "text/plain": [
       "(120.0, array([  1.,   2.,   6.,  24., 120.]))"
      ]
     },
     "execution_count": 44,
     "metadata": {},
     "output_type": "execute_result"
    }
   ],
   "source": [
    "special.factorial(5), special.factorial(range(1, 6))"
   ]
  },
  {
   "cell_type": "markdown",
   "metadata": {},
   "source": [
    "Traditionally, subsets of $k$ individuals out of a population of $n$ individuals are called *combinations*, and so `special.comb(n, k)` evaluates to $\\binom{n}{k}$.\n",
    "\n",
    "Note that we will always use the term *subsets* to mean un-ordered sets. We will use *permutations* in situations where we need to keep track of the order in which the elements appear.\n",
    "\n",
    "Look at the code and output below carefully (including types) before starting Question 1."
   ]
  },
  {
   "cell_type": "code",
   "execution_count": 45,
   "metadata": {
    "pycharm": {
     "name": "#%%\n"
    }
   },
   "outputs": [
    {
     "data": {
      "text/plain": [
       "(10.0, 10.0)"
      ]
     },
     "execution_count": 45,
     "metadata": {},
     "output_type": "execute_result"
    }
   ],
   "source": [
    "special.comb(5, 3), special.factorial(5) / (special.factorial(3) * special.factorial(2))"
   ]
  },
  {
   "cell_type": "code",
   "execution_count": 46,
   "metadata": {
    "pycharm": {
     "name": "#%%\n"
    }
   },
   "outputs": [
    {
     "data": {
      "text/plain": [
       "array([ 1.,  5., 10., 10.,  5.,  1.])"
      ]
     },
     "execution_count": 46,
     "metadata": {},
     "output_type": "execute_result"
    }
   ],
   "source": [
    "special.comb(5, range(6))"
   ]
  },
  {
   "cell_type": "code",
   "execution_count": 47,
   "metadata": {
    "pycharm": {
     "name": "#%%\n"
    }
   },
   "outputs": [
    {
     "data": {
      "text/plain": [
       "(1.0089134454556415e+29, 100891344545564193334812497256)"
      ]
     },
     "execution_count": 47,
     "metadata": {},
     "output_type": "execute_result"
    }
   ],
   "source": [
    "special.comb(100, 50), special.comb(100, 50, exact=True)"
   ]
  },
  {
   "cell_type": "markdown",
   "metadata": {},
   "source": [
    "### Question 1"
   ]
  },
  {
   "cell_type": "markdown",
   "metadata": {},
   "source": [
    "Consider a population in which a proportion $p$ of individuals are called \"successes\" (or 1, if you prefer) and the remaining proportion are rudely called \"failures\" (or 0).\n",
    "\n",
    "As we saw in lecture, if you draw a sample of size $n$ (where $n$ is some positive integer) at random with replacement from the population, then the number of successes is a random variable that follows the binomial distribution. The probability of drawing $k$ successes and $n-k$ failures is $\\binom{n}{k}p^k(1-p)^{n-k}$, for $0 \\leq k \\leq n$. To reduce writing, we will shorten \"$k$ successes and $n-k$ failures\" to \"$k$ successes\". In other words, \"$k$ successes\" means \"exactly $k$ successes\".\n",
    "\n",
    "To formalize notation: if $X$ is the number of successes we draw, then $P(X = k) = \\binom{n}{k}p^k(1-p)^{n-k}$."
   ]
  },
  {
   "cell_type": "markdown",
   "metadata": {},
   "source": [
    "### Question 1a) ###\n",
    "Suppose you sample 100 times at random with replacement from a population in which 26% of the individuals are successes. Write a Python expression that evaluates to the chance that the sample has 20 successes.\n",
    "\n",
    "**Computational note:** Don't import any other libraries; just use the ones already imported and plug into the formula above. It's far from the best way numerically, but it is fine for the numbers involved in this Homework.\n",
    "\n",
    "<!--\n",
    "BEGIN QUESTION\n",
    "name: q1a\n",
    "manual: false\n",
    "points: 1\n",
    "-->"
   ]
  },
  {
   "cell_type": "code",
   "execution_count": 48,
   "metadata": {
    "pycharm": {
     "name": "#%%\n"
    }
   },
   "outputs": [
    {
     "data": {
      "text/plain": [
       "0.036911003560024636"
      ]
     },
     "execution_count": 48,
     "metadata": {},
     "output_type": "execute_result"
    }
   ],
   "source": [
    "prob_1a = special.comb(100, 20) * (.26)**20 * (1-.26)**80\n",
    "prob_1a"
   ]
  },
  {
   "cell_type": "code",
   "execution_count": 49,
   "metadata": {
    "pycharm": {
     "name": "#%%\n"
    }
   },
   "outputs": [
    {
     "data": {
      "text/html": [
       "<p><strong><pre style='display: inline;'>q1a</pre></strong> passed!</p>"
      ],
      "text/plain": [
       "q1a results: All test cases passed!"
      ]
     },
     "execution_count": 49,
     "metadata": {},
     "output_type": "execute_result"
    }
   ],
   "source": [
    "grader.check(\"q1a\")"
   ]
  },
  {
   "cell_type": "markdown",
   "metadata": {},
   "source": [
    "### Question 1b) ###\n",
    "Complete the cell with a Python expression that evaluates to an array whose elements are the chances of $k$ successes for $k = 0, 1, 2, \\ldots, 100$. That is, `all_probs[k]` should contain $P(X = k)$, where $X$ is the random variable describing the number of successes drawn from the scenario outlined above.\n",
    "\n",
    "<!--\n",
    "BEGIN QUESTION\n",
    "name: q1b\n",
    "points: 1\n",
    "-->"
   ]
  },
  {
   "cell_type": "code",
   "execution_count": 50,
   "metadata": {
    "pycharm": {
     "name": "#%%\n"
    }
   },
   "outputs": [
    {
     "data": {
      "text/plain": [
       "(array([0.    , 0.    , 0.    , 0.    , 0.    , 0.    , 0.    , 0.    ,\n",
       "        0.    , 0.    , 0.    , 0.0001, 0.0003, 0.0007, 0.0016, 0.0033,\n",
       "        0.0061, 0.0106, 0.0171, 0.0259, 0.0369, 0.0494, 0.0623, 0.0743,\n",
       "        0.0837, 0.0894, 0.0906, 0.0873, 0.0799, 0.0697, 0.058 , 0.046 ,\n",
       "        0.0349, 0.0252, 0.0175, 0.0116, 0.0073, 0.0045, 0.0026, 0.0015,\n",
       "        0.0008, 0.0004, 0.0002, 0.0001, 0.    , 0.    , 0.    , 0.    ,\n",
       "        0.    , 0.    , 0.    , 0.    , 0.    , 0.    , 0.    , 0.    ,\n",
       "        0.    , 0.    , 0.    , 0.    , 0.    , 0.    , 0.    , 0.    ,\n",
       "        0.    , 0.    , 0.    , 0.    , 0.    , 0.    , 0.    , 0.    ,\n",
       "        0.    , 0.    , 0.    , 0.    , 0.    , 0.    , 0.    , 0.    ,\n",
       "        0.    , 0.    , 0.    , 0.    , 0.    , 0.    , 0.    , 0.    ,\n",
       "        0.    , 0.    , 0.    , 0.    , 0.    , 0.    , 0.    , 0.    ,\n",
       "        0.    , 0.    , 0.    , 0.    , 0.    ]),\n",
       " 0.9999999999999996)"
      ]
     },
     "execution_count": 50,
     "metadata": {},
     "output_type": "execute_result"
    }
   ],
   "source": [
    "k = np.arange(101)\n",
    "all_probs = special.comb(100, k) * (.26)**k * (1-.26)**(100-k)\n",
    "np.round(all_probs, 4), sum(all_probs)"
   ]
  },
  {
   "cell_type": "code",
   "execution_count": 51,
   "metadata": {
    "pycharm": {
     "name": "#%%\n"
    }
   },
   "outputs": [
    {
     "data": {
      "text/html": [
       "<p><strong><pre style='display: inline;'>q1b</pre></strong> passed!</p>"
      ],
      "text/plain": [
       "q1b results: All test cases passed!"
      ]
     },
     "execution_count": 51,
     "metadata": {},
     "output_type": "execute_result"
    }
   ],
   "source": [
    "grader.check(\"q1b\")"
   ]
  },
  {
   "cell_type": "markdown",
   "metadata": {},
   "source": [
    "### Question 1c) ###\n",
    "\n",
    "\n",
    "Complete the cell with an expression that evaluates to the chance that the number of successes in the sample is in the interval $26 \\pm 10$ (inclusive on both sides). In other words, determine $P(16 \\leq X \\leq 36)$. **Hint: You might want to apply your Python indexing knowledge here.**\n",
    "\n",
    "**Note: Please assign your answer to `prob_1c`. Because we use an autograder, please make sure your answer is a proportion between 0 and 1, not a percent between 0 and 100.**\n",
    "\n",
    "<!--\n",
    "BEGIN QUESTION\n",
    "name: q1c\n",
    "manual: false\n",
    "points: 1\n",
    "-->"
   ]
  },
  {
   "cell_type": "code",
   "execution_count": 56,
   "metadata": {
    "pycharm": {
     "name": "#%%\n"
    }
   },
   "outputs": [
    {
     "data": {
      "text/plain": [
       "0.9838345682140125"
      ]
     },
     "execution_count": 56,
     "metadata": {},
     "output_type": "execute_result"
    }
   ],
   "source": [
    "k = np.arange(16, 37, 1)\n",
    "prob_1c = sum(special.comb(100, k) * (.26)**k * (1-.26)**(100-k))\n",
    "prob_1c"
   ]
  },
  {
   "cell_type": "code",
   "execution_count": 55,
   "metadata": {
    "pycharm": {
     "name": "#%%\n"
    }
   },
   "outputs": [
    {
     "data": {
      "text/html": [
       "<p><strong><pre style='display: inline;'>q1c</pre></strong> passed!</p>"
      ],
      "text/plain": [
       "q1c results: All test cases passed!"
      ]
     },
     "execution_count": 55,
     "metadata": {},
     "output_type": "execute_result"
    }
   ],
   "source": [
    "grader.check(\"q1c\")"
   ]
  },
  {
   "cell_type": "markdown",
   "metadata": {},
   "source": [
    "### Question 2"
   ]
  },
  {
   "cell_type": "markdown",
   "metadata": {},
   "source": [
    "Consider (once again) a sample of size $n$ drawn at random with replacement from a population in which a proportion $p$ of the individuals are called successes.\n",
    "\n",
    "Let $S$ be the random variable that denotes the number of successes in our sample. (As stated above, $S$ follows the binomial distribution.) Then, the probability that the number of successes in our sample is **at most** $s$ (where $0 \\leq s \\leq n$) is\n",
    "\n",
    "$$P(S \\leq s) = P(S = 0) + P(S = 1) + ... + P(S = s) = \\sum_{k=0}^s \\binom{n}{k}p^k(1-p)^{n-k}$$\n",
    "\n",
    "We obtain this by summing the probability that the number of successes is exactly $k$, for each value of $k = 0, 1, 2, ..., s$."
   ]
  },
  {
   "cell_type": "markdown",
   "metadata": {},
   "source": [
    "### Question 2a) ###\n",
    "\n",
    "Please fill in the function `prob_at_most` which takes $n$, $p$, and $s$ and returns $P(S \\le s)$ as defined above. If the inputs are invalid: for instance, if $p > 1$ OR $s > n$ then return 0.\n",
    "\n",
    "It might help to refer to the calculation in Question 1b.\n",
    "\n",
    "<!--\n",
    "BEGIN QUESTION\n",
    "name: q2a\n",
    "manual: false\n",
    "points: 1\n",
    "-->"
   ]
  },
  {
   "cell_type": "code",
   "execution_count": 57,
   "metadata": {
    "pycharm": {
     "name": "#%%\n"
    }
   },
   "outputs": [],
   "source": [
    "def prob_at_most(n, p, s):\n",
    "    \"\"\"\n",
    "    returns the probability of S <= s\n",
    "    Input n: sample size; p : proportion; s: number of successes at most\"\"\"\n",
    "    if p > 1 or p<0 or s>n:\n",
    "        return 0\n",
    "    k = np.arange(s+1)\n",
    "    return sum(special.comb(n, k) * (p)**k * (1-p)**(n-k))"
   ]
  },
  {
   "cell_type": "code",
   "execution_count": 58,
   "metadata": {
    "pycharm": {
     "name": "#%%\n"
    }
   },
   "outputs": [
    {
     "data": {
      "text/html": [
       "<p><strong><pre style='display: inline;'>q2a</pre></strong> passed!</p>"
      ],
      "text/plain": [
       "q2a results: All test cases passed!"
      ]
     },
     "execution_count": 58,
     "metadata": {},
     "output_type": "execute_result"
    }
   ],
   "source": [
    "grader.check(\"q2a\")"
   ]
  },
  {
   "cell_type": "markdown",
   "metadata": {},
   "source": [
    "### Question 2b) ###\n",
    "In an election, supporters of Candidate C are in a minority. Only 45% of the voters in the population favor the candidate.\n",
    "\n",
    "Suppose a survey organization takes a sample of 200 voters at random with replacement from this population. Use `prob_at_most` to write an expression that evaluates to the chance that a majority (more than half) of the sampled voters favor Candidate C.\n",
    "\n",
    "<!--\n",
    "BEGIN QUESTION\n",
    "name: q2b\n",
    "manual: false\n",
    "points: 1\n",
    "-->"
   ]
  },
  {
   "cell_type": "code",
   "execution_count": 61,
   "metadata": {
    "pycharm": {
     "name": "#%%\n"
    }
   },
   "outputs": [
    {
     "data": {
      "text/plain": [
       "0.06807524986275781"
      ]
     },
     "execution_count": 61,
     "metadata": {},
     "output_type": "execute_result"
    }
   ],
   "source": [
    "p_majority = prob_at_most(200, .55, 99)\n",
    "p_majority"
   ]
  },
  {
   "cell_type": "code",
   "execution_count": 62,
   "metadata": {
    "pycharm": {
     "name": "#%%\n"
    }
   },
   "outputs": [
    {
     "data": {
      "text/html": [
       "<p><strong><pre style='display: inline;'>q2b</pre></strong> passed!</p>"
      ],
      "text/plain": [
       "q2b results: All test cases passed!"
      ]
     },
     "execution_count": 62,
     "metadata": {},
     "output_type": "execute_result"
    }
   ],
   "source": [
    "grader.check(\"q2b\")"
   ]
  },
  {
   "cell_type": "markdown",
   "metadata": {},
   "source": [
    "### Question 2c) ###\n",
    "Suppose each of five survey organizations takes a sample of voters at random with replacement from the population of voters in Part **b**, independently of the samples drawn by the other organizations.\n",
    "\n",
    "- Three of the organizations use a sample size of 200\n",
    "- One organization uses a sample size of 300\n",
    "- One organization uses a sample size of 400\n",
    "\n",
    "Write an expression that evaluates to the chance that in at least one of the five samples the majority of voters favor Candidate C. You can use any quantity or function defined earlier in this exercise.\n",
    "\n",
    "<!--\n",
    "BEGIN QUESTION\n",
    "name: q2c\n",
    "manual: false\n",
    "points: 2\n",
    "-->"
   ]
  },
  {
   "cell_type": "code",
   "execution_count": 67,
   "metadata": {
    "pycharm": {
     "name": "#%%\n"
    }
   },
   "outputs": [
    {
     "data": {
      "text/plain": [
       "0.2603795290617649"
      ]
     },
     "execution_count": 67,
     "metadata": {},
     "output_type": "execute_result"
    }
   ],
   "source": [
    "prob_2c = 3*prob_at_most(200, .55, 99) + prob_at_most(300, .55, 149) + prob_at_most(400, .55, 199)\n",
    "prob_2c"
   ]
  },
  {
   "cell_type": "code",
   "execution_count": 68,
   "metadata": {
    "pycharm": {
     "name": "#%%\n"
    }
   },
   "outputs": [
    {
     "data": {
      "text/html": [
       "<p><strong><pre style='display: inline;'>q2c</pre></strong> passed!</p>"
      ],
      "text/plain": [
       "q2c results: All test cases passed!"
      ]
     },
     "execution_count": 68,
     "metadata": {},
     "output_type": "execute_result"
    }
   ],
   "source": [
    "grader.check(\"q2c\")"
   ]
  },
  {
   "cell_type": "markdown",
   "metadata": {},
   "source": [
    "### Question 3"
   ]
  },
  {
   "cell_type": "markdown",
   "metadata": {},
   "source": [
    "In Pennsylvania, 6,165,478 people voted in the 2016 Presidential election.\n",
    "Trump received 48.18% of the vote and Clinton recieved 47.46%.\n",
    "This doesn't add up to 100% because other candidates received votes.\n",
    "All together these other candidates received 100% - 48.18% - 47.46% = 4.36% of the vote.\n",
    "\n",
    "The table below displays the counts and proportions.\n",
    "\n",
    "\n",
    "|   Voted for   |  Trump|    Clinton|    Other|\n",
    "|-----------|-----------|-----------|---------|\n",
    "| Probability      |   0.4818   | 0.4746  |   0.0436 |\n",
    "| Number of people | 2,970,733  | 2,926,441 | 268,304 |"
   ]
  },
  {
   "cell_type": "markdown",
   "metadata": {},
   "source": [
    "### Question 3a) ###\n",
    "Suppose we pick a simple random sample of 20 of the 6,165,478 Pennsylvania (PA) voters.\n",
    "\n",
    "In the sample, let $N_T$ be the number of Trump voters, $N_C$ the number of Clinton voters, and $N_O$ the number of \"other\" voters. Then $N_T$, $N_C$, and $N_O$ are random: they depend on how the sample comes out. In Data 8 we called such quantities \"statistics\".\n",
    "\n",
    "Pick the correct option: $N_T + N_C + N_O$ is equal to\n",
    "\n",
    "<ol style=\"list-style-type: lower-alpha;\">\n",
    "    <li>3</li>\n",
    "    <li>20</li>\n",
    "    <li>6,165,478</li>\n",
    "    <li>a random quantity</li>\n",
    "</ol>\n",
    "\n",
    "*Note*: if your answer is (d), put  `ans_3a = 'd'`  for the purpose of grading. Passing the test **does NOT** mean you answer is correct. The test only checks if your answer is in the correct format.\n",
    "\n",
    "<!--\n",
    "BEGIN QUESTION\n",
    "name: q3a\n",
    "manual: false\n",
    "points:\n",
    "    - 0\n",
    "    - 1\n",
    "-->"
   ]
  },
  {
   "cell_type": "code",
   "execution_count": 69,
   "metadata": {
    "pycharm": {
     "name": "#%%\n"
    }
   },
   "outputs": [],
   "source": [
    "ans_3a = 'b'"
   ]
  },
  {
   "cell_type": "code",
   "execution_count": 70,
   "metadata": {
    "pycharm": {
     "name": "#%%\n"
    }
   },
   "outputs": [
    {
     "data": {
      "text/html": [
       "<p><strong><pre style='display: inline;'>q3a</pre></strong> passed!</p>"
      ],
      "text/plain": [
       "q3a results: All test cases passed!"
      ]
     },
     "execution_count": 70,
     "metadata": {},
     "output_type": "execute_result"
    }
   ],
   "source": [
    "grader.check(\"q3a\")"
   ]
  },
  {
   "cell_type": "markdown",
   "metadata": {},
   "source": [
    "### Question 3b) ###\n",
    "Pick the correct option.\n",
    "\n",
    "A simple random sample of 20 PA voters is like a sample drawn at random with replacement, because\n",
    "\n",
    "<ol style=\"list-style-type: lower-alpha;\">\n",
    "<li>that's the definition of \"simple random sample\"</li>\n",
    "<li>there are only 3 categories of voters, which is small in comparison to 20</li>\n",
    "<li>there are only 20 people in the sample, which is small in comparison to the total number of PA voters</li>\n",
    "<li>all PA voters are equally likely to be selected</li>\n",
    "</ol>\n",
    "\n",
    "*Note*: if your answer is (d), put `ans_3b = 'd'`  for the purpose of grading. Passing the test **does NOT** mean you answer is correct. The test only checks if your answer is in the correct format.\n",
    "\n",
    "<!--\n",
    "BEGIN QUESTION\n",
    "name: q3b\n",
    "manual: false\n",
    "points:\n",
    "    - 0\n",
    "    - 1\n",
    "-->"
   ]
  },
  {
   "cell_type": "code",
   "execution_count": 31,
   "metadata": {
    "pycharm": {
     "name": "#%%\n"
    }
   },
   "outputs": [],
   "source": [
    "ans_3b = ..."
   ]
  },
  {
   "cell_type": "code",
   "execution_count": null,
   "metadata": {
    "pycharm": {
     "name": "#%%\n"
    }
   },
   "outputs": [],
   "source": [
    "grader.check(\"q3b\")"
   ]
  },
  {
   "cell_type": "markdown",
   "metadata": {},
   "source": [
    "### Question 3c) ###\n",
    "\n",
    "Let $t$, $c$, and $o$ be any three non-negative integers. For the sample defined in Part **a**, the probability that the sample contains $t$ Trump voters, $c$ Clinton voters and $o$ \"other\" voters is denoted by $P(N_T = t, N_C = c, N_O = o)$.\n",
    "\n",
    "Define a function `prob_sample_counts` that takes any three non-negative integers $t$, $c$, and $o$, and returns $P(N_T = t, N_C = c, N_O = o)$. The probability is 0 for some choices of the arguments, and your function should return 0 in those cases.\n",
    "\n",
    "Remember that Part **b** implies you can use results for sampling with replacement.\n",
    "\n",
    "What should `prob_sample_counts(31, 8, 1)` evaluate to? Check that your function returns the right value (No extra code/cells required).\n",
    "\n",
    "<!--\n",
    "BEGIN QUESTION\n",
    "name: q3c\n",
    "manual: false\n",
    "points: 1\n",
    "-->"
   ]
  },
  {
   "cell_type": "code",
   "execution_count": 34,
   "metadata": {
    "pycharm": {
     "name": "#%%\n"
    }
   },
   "outputs": [],
   "source": [
    "def prob_sample_counts(t, c, o):\n",
    "    \"\"\"\n",
    "    Input:\n",
    "    t - number of votes for Trump\n",
    "    c - number of votes for Clinton\n",
    "    o - number of votes for Other\n",
    "    Return: The probability of getting a such sample\n",
    "    \"\"\"\n",
    "    ..."
   ]
  },
  {
   "cell_type": "code",
   "execution_count": null,
   "metadata": {
    "pycharm": {
     "name": "#%%\n"
    }
   },
   "outputs": [],
   "source": [
    "grader.check(\"q3c\")"
   ]
  },
  {
   "cell_type": "markdown",
   "metadata": {},
   "source": [
    "### Question 3d) ###\n",
    "\n",
    "Check that your function determines a probability distribution by summing all the positive terms. You know what the sum should be. **Hint: You might need to iterate through certain values of c and t to compute the sum of all positive probabilities.**\n",
    "\n",
    "<!--\n",
    "BEGIN QUESTION\n",
    "name: q3d\n",
    "manual: false\n",
    "points: 1\n",
    "-->"
   ]
  },
  {
   "cell_type": "code",
   "execution_count": 37,
   "metadata": {
    "pycharm": {
     "name": "#%%\n"
    }
   },
   "outputs": [],
   "source": [
    "prob_3d = ...\n",
    "prob_3d"
   ]
  },
  {
   "cell_type": "code",
   "execution_count": null,
   "metadata": {
    "pycharm": {
     "name": "#%%\n"
    }
   },
   "outputs": [],
   "source": [
    "grader.check(\"q3d\")"
   ]
  },
  {
   "cell_type": "markdown",
   "metadata": {},
   "source": [
    "### Question 3e) ###\n",
    "Use `prob_sample_counts` to find the chance that the sample consists of 11 Trump voters, 8 Clinton voters, and 1 \"other\" voter.\n",
    "\n",
    "<!--\n",
    "BEGIN QUESTION\n",
    "name: q3e\n",
    "manual: false\n",
    "points: 1\n",
    "-->"
   ]
  },
  {
   "cell_type": "code",
   "execution_count": 40,
   "metadata": {
    "pycharm": {
     "name": "#%%\n"
    }
   },
   "outputs": [],
   "source": [
    "prob_3e = ...\n",
    "prob_3e"
   ]
  },
  {
   "cell_type": "code",
   "execution_count": null,
   "metadata": {
    "pycharm": {
     "name": "#%%\n"
    }
   },
   "outputs": [],
   "source": [
    "grader.check(\"q3e\")"
   ]
  },
  {
   "cell_type": "markdown",
   "metadata": {},
   "source": [
    "### Question 3f) ###\n",
    "Write an expression that evaluates the chance that the sample contains at least 7 Trump voters, at least 7 Clinton voters, and at least 1 \"other\" voter. **Hint: You might find 3d useful.**\n",
    "\n",
    "<!--\n",
    "BEGIN QUESTION\n",
    "name: q3f\n",
    "manual: false\n",
    "points: 2\n",
    "-->"
   ]
  },
  {
   "cell_type": "code",
   "execution_count": 43,
   "metadata": {
    "pycharm": {
     "name": "#%%\n"
    }
   },
   "outputs": [],
   "source": [
    "prob_3f = ...\n",
    "prob_3f"
   ]
  },
  {
   "cell_type": "code",
   "execution_count": null,
   "metadata": {
    "pycharm": {
     "name": "#%%\n"
    }
   },
   "outputs": [],
   "source": [
    "grader.check(\"q3f\")"
   ]
  },
  {
   "cell_type": "markdown",
   "metadata": {},
   "source": [
    "Congratulations, you're done with Lab 2!"
   ]
  }
 ],
 "metadata": {
  "anaconda-cloud": {},
  "celltoolbar": "Edit Metadata",
  "kernelspec": {
   "display_name": "Python 3 (ipykernel)",
   "language": "python",
   "name": "python3"
  },
  "language_info": {
   "codemirror_mode": {
    "name": "ipython",
    "version": 3
   },
   "file_extension": ".py",
   "mimetype": "text/x-python",
   "name": "python",
   "nbconvert_exporter": "python",
   "pygments_lexer": "ipython3",
   "version": "3.8.7"
  }
 },
 "nbformat": 4,
 "nbformat_minor": 1
}
