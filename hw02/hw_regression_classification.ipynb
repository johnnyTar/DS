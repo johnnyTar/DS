{
 "cells": [
  {
   "attachments": {},
   "cell_type": "markdown",
   "metadata": {
    "deletable": false,
    "editable": false,
    "nbgrader": {
     "cell_type": "markdown",
     "checksum": "4567bb997a0fe5564ba31c8c74af4f6b",
     "grade": false,
     "grade_id": "cell-8ceb77f4dabb64c1",
     "locked": true,
     "schema_version": 3,
     "solution": false,
     "task": false
    }
   },
   "source": [
    "# Homework 2: Regression and Classification\n",
    "## Due Date: Thursday, June 22, 11:59PM"
   ]
  },
  {
   "attachments": {},
   "cell_type": "markdown",
   "metadata": {},
   "source": [
    "**Full Name**: *Your name here*\n",
    "\n",
    "**Group members**: *list group-mate(s) here*\n",
    "\n",
    "**IMPORTANT NOTE:** The homework needs to be submitted individually."
   ]
  },
  {
   "attachments": {},
   "cell_type": "markdown",
   "metadata": {
    "deletable": false,
    "editable": false,
    "nbgrader": {
     "cell_type": "markdown",
     "checksum": "78849e9d2cedc8104245a25c56e47b4b",
     "grade": false,
     "grade_id": "cell-6cc8cd111646726f",
     "locked": true,
     "schema_version": 3,
     "solution": false,
     "task": false
    }
   },
   "source": [
    "## Grading\n",
    "\n",
    "Grading is broken down into autograded answers and free response.\n",
    "\n",
    "For autograded answers, the results of your code are compared to provided and/or hidden tests. **For autograded probability questions, the provided tests will only check that your answer is within a reasonable range.**\n"
   ]
  },
  {
   "attachments": {},
   "cell_type": "markdown",
   "metadata": {
    "deletable": false,
    "editable": false,
    "nbgrader": {
     "cell_type": "markdown",
     "checksum": "f3bd07135042be7afd9f35b5e122defe",
     "grade": false,
     "grade_id": "cell-bccd42d548b2c0f1",
     "locked": true,
     "schema_version": 3,
     "solution": false,
     "task": false
    }
   },
   "source": [
    "### Please make sure to save regularly; do not rely on autosave to save your work for you!"
   ]
  },
  {
   "cell_type": "code",
   "execution_count": 22,
   "metadata": {
    "ExecuteTime": {
     "end_time": "2023-06-08T07:38:42.492111752Z",
     "start_time": "2023-06-08T07:38:42.292456070Z"
    }
   },
   "outputs": [],
   "source": [
    "import numpy as np\n",
    "import pandas as pd\n",
    "import matplotlib.pyplot as plt\n",
    "import seaborn as sns"
   ]
  },
  {
   "attachments": {},
   "cell_type": "markdown",
   "metadata": {
    "deletable": false,
    "editable": false,
    "nbgrader": {
     "cell_type": "markdown",
     "checksum": "ef44a8a6792ee16cd5773bb7ef31dad9",
     "grade": false,
     "grade_id": "cell-62e9324cf3779406",
     "locked": true,
     "schema_version": 3,
     "solution": false,
     "task": false
    }
   },
   "source": [
    "# Part 1: Regression\n",
    "\n",
    "The Tips dataset contains information about various restaurant bills and the corresponding tips given by customers. It consists of the following columns:\n",
    "\n",
    "* **total_bill**: The total amount of the bill, including the cost of the meal, taxes, and additional charges.\n",
    "* **tip**: The amount of tip given by the customer.\n",
    "* **sex**: The gender of the person paying the bill (Male or Female).\n",
    "* **smoker**: Indicates whether the customer is a smoker (Yes or No).\n",
    "* **day**: The day of the week when the bill was generated (e.g., Sun for Sunday, Sat for Saturday).\n",
    "* **time**: The time of day when the bill was generated (Lunch or Dinner).\n",
    "* **size**: The number of people in the dining party."
   ]
  },
  {
   "cell_type": "code",
   "execution_count": 23,
   "metadata": {
    "ExecuteTime": {
     "end_time": "2023-06-08T07:38:42.492773016Z",
     "start_time": "2023-06-08T07:38:42.335994249Z"
    }
   },
   "outputs": [],
   "source": [
    "# let us first load the mpg dataset from the pkl file\n",
    "\n",
    "# for those that work offline with the notebook you can use mpg directly from seaborn\n",
    "# deactivate when working on jupyterhub\n",
    "# tips = sns.load_dataset('tips')\n",
    "# with open('tips.pkl', 'wb') as f:\n",
    "#     pd.to_pickle(tips, f)\n",
    "\n",
    "# please activate this when working on jupyterhub\n",
    "with open('tips.pkl', 'rb') as f:\n",
    "    tips = pd.read_pickle(f)\n"
   ]
  },
  {
   "cell_type": "code",
   "execution_count": 24,
   "metadata": {
    "ExecuteTime": {
     "end_time": "2023-06-08T07:38:42.492926075Z",
     "start_time": "2023-06-08T07:38:42.336095686Z"
    }
   },
   "outputs": [
    {
     "data": {
      "text/html": [
       "<div>\n",
       "<style scoped>\n",
       "    .dataframe tbody tr th:only-of-type {\n",
       "        vertical-align: middle;\n",
       "    }\n",
       "\n",
       "    .dataframe tbody tr th {\n",
       "        vertical-align: top;\n",
       "    }\n",
       "\n",
       "    .dataframe thead th {\n",
       "        text-align: right;\n",
       "    }\n",
       "</style>\n",
       "<table border=\"1\" class=\"dataframe\">\n",
       "  <thead>\n",
       "    <tr style=\"text-align: right;\">\n",
       "      <th></th>\n",
       "      <th>total_bill</th>\n",
       "      <th>tip</th>\n",
       "      <th>sex</th>\n",
       "      <th>smoker</th>\n",
       "      <th>day</th>\n",
       "      <th>time</th>\n",
       "      <th>size</th>\n",
       "    </tr>\n",
       "  </thead>\n",
       "  <tbody>\n",
       "    <tr>\n",
       "      <th>0</th>\n",
       "      <td>16.99</td>\n",
       "      <td>1.01</td>\n",
       "      <td>Female</td>\n",
       "      <td>No</td>\n",
       "      <td>Sun</td>\n",
       "      <td>Dinner</td>\n",
       "      <td>2</td>\n",
       "    </tr>\n",
       "    <tr>\n",
       "      <th>1</th>\n",
       "      <td>10.34</td>\n",
       "      <td>1.66</td>\n",
       "      <td>Male</td>\n",
       "      <td>No</td>\n",
       "      <td>Sun</td>\n",
       "      <td>Dinner</td>\n",
       "      <td>3</td>\n",
       "    </tr>\n",
       "    <tr>\n",
       "      <th>2</th>\n",
       "      <td>21.01</td>\n",
       "      <td>3.50</td>\n",
       "      <td>Male</td>\n",
       "      <td>No</td>\n",
       "      <td>Sun</td>\n",
       "      <td>Dinner</td>\n",
       "      <td>3</td>\n",
       "    </tr>\n",
       "    <tr>\n",
       "      <th>3</th>\n",
       "      <td>23.68</td>\n",
       "      <td>3.31</td>\n",
       "      <td>Male</td>\n",
       "      <td>No</td>\n",
       "      <td>Sun</td>\n",
       "      <td>Dinner</td>\n",
       "      <td>2</td>\n",
       "    </tr>\n",
       "    <tr>\n",
       "      <th>4</th>\n",
       "      <td>24.59</td>\n",
       "      <td>3.61</td>\n",
       "      <td>Female</td>\n",
       "      <td>No</td>\n",
       "      <td>Sun</td>\n",
       "      <td>Dinner</td>\n",
       "      <td>4</td>\n",
       "    </tr>\n",
       "    <tr>\n",
       "      <th>...</th>\n",
       "      <td>...</td>\n",
       "      <td>...</td>\n",
       "      <td>...</td>\n",
       "      <td>...</td>\n",
       "      <td>...</td>\n",
       "      <td>...</td>\n",
       "      <td>...</td>\n",
       "    </tr>\n",
       "    <tr>\n",
       "      <th>239</th>\n",
       "      <td>29.03</td>\n",
       "      <td>5.92</td>\n",
       "      <td>Male</td>\n",
       "      <td>No</td>\n",
       "      <td>Sat</td>\n",
       "      <td>Dinner</td>\n",
       "      <td>3</td>\n",
       "    </tr>\n",
       "    <tr>\n",
       "      <th>240</th>\n",
       "      <td>27.18</td>\n",
       "      <td>2.00</td>\n",
       "      <td>Female</td>\n",
       "      <td>Yes</td>\n",
       "      <td>Sat</td>\n",
       "      <td>Dinner</td>\n",
       "      <td>2</td>\n",
       "    </tr>\n",
       "    <tr>\n",
       "      <th>241</th>\n",
       "      <td>22.67</td>\n",
       "      <td>2.00</td>\n",
       "      <td>Male</td>\n",
       "      <td>Yes</td>\n",
       "      <td>Sat</td>\n",
       "      <td>Dinner</td>\n",
       "      <td>2</td>\n",
       "    </tr>\n",
       "    <tr>\n",
       "      <th>242</th>\n",
       "      <td>17.82</td>\n",
       "      <td>1.75</td>\n",
       "      <td>Male</td>\n",
       "      <td>No</td>\n",
       "      <td>Sat</td>\n",
       "      <td>Dinner</td>\n",
       "      <td>2</td>\n",
       "    </tr>\n",
       "    <tr>\n",
       "      <th>243</th>\n",
       "      <td>18.78</td>\n",
       "      <td>3.00</td>\n",
       "      <td>Female</td>\n",
       "      <td>No</td>\n",
       "      <td>Thur</td>\n",
       "      <td>Dinner</td>\n",
       "      <td>2</td>\n",
       "    </tr>\n",
       "  </tbody>\n",
       "</table>\n",
       "<p>244 rows × 7 columns</p>\n",
       "</div>"
      ],
      "text/plain": [
       "     total_bill   tip     sex smoker   day    time  size\n",
       "0         16.99  1.01  Female     No   Sun  Dinner     2\n",
       "1         10.34  1.66    Male     No   Sun  Dinner     3\n",
       "2         21.01  3.50    Male     No   Sun  Dinner     3\n",
       "3         23.68  3.31    Male     No   Sun  Dinner     2\n",
       "4         24.59  3.61  Female     No   Sun  Dinner     4\n",
       "..          ...   ...     ...    ...   ...     ...   ...\n",
       "239       29.03  5.92    Male     No   Sat  Dinner     3\n",
       "240       27.18  2.00  Female    Yes   Sat  Dinner     2\n",
       "241       22.67  2.00    Male    Yes   Sat  Dinner     2\n",
       "242       17.82  1.75    Male     No   Sat  Dinner     2\n",
       "243       18.78  3.00  Female     No  Thur  Dinner     2\n",
       "\n",
       "[244 rows x 7 columns]"
      ]
     },
     "execution_count": 24,
     "metadata": {},
     "output_type": "execute_result"
    }
   ],
   "source": [
    "tips\n"
   ]
  },
  {
   "cell_type": "code",
   "execution_count": 25,
   "metadata": {
    "ExecuteTime": {
     "end_time": "2023-06-08T07:38:42.550615648Z",
     "start_time": "2023-06-08T07:38:42.384041832Z"
    }
   },
   "outputs": [
    {
     "data": {
      "text/plain": [
       "<Axes: xlabel='total_bill', ylabel='tip'>"
      ]
     },
     "execution_count": 25,
     "metadata": {},
     "output_type": "execute_result"
    },
    {
     "data": {
      "image/png": "[encoded data removed]",
      "text/plain": [
       "<Figure size 640x480 with 1 Axes>"
      ]
     },
     "metadata": {},
     "output_type": "display_data"
    }
   ],
   "source": [
    "\n",
    "# Create a scatter plot of total_bill vs tip\n",
    "sns.scatterplot(x=\"total_bill\", y=\"tip\", data=tips)\n"
   ]
  },
  {
   "attachments": {},
   "cell_type": "markdown",
   "metadata": {
    "deletable": false,
    "editable": false,
    "nbgrader": {
     "cell_type": "markdown",
     "checksum": "1076940c6aeb06b397c09ff6c7cd648a",
     "grade": false,
     "grade_id": "cell-f62e40aa648dc216",
     "locked": true,
     "schema_version": 3,
     "solution": false,
     "task": false
    }
   },
   "source": [
    "### Task 1a: Analyzing Tipping Behavior on Lunch and Dinner\n",
    "To perform regression analysis on the given dataset, we need to convert the categorical columns ('sex', 'smoker', 'day') into numerical representations. Additionally, we can encode the day of the week column into binary variables for each day. Here's how you can prepare the columns for regression analysis:\n",
    "\n",
    "* Convert the 'sex' column to numerical representation: Replace 'Male' with 0 and 'Female' with 1.\n",
    "* Convert the 'smoker' column to numerical representation: Replace 'No' with 0 and 'Yes' with 1.\n",
    "* Create new columns for each day of the week ['Thur', 'Fri', 'Sat', 'Sun'], that is in the dataset. Set the value to 1 if the 'day' matches the column's day, otherwise set it to 0."
   ]
  },
  {
   "cell_type": "code",
   "execution_count": 26,
   "metadata": {},
   "outputs": [],
   "source": [
    "# tips"
   ]
  },
  {
   "cell_type": "code",
   "execution_count": 27,
   "metadata": {
    "ExecuteTime": {
     "end_time": "2023-06-08T07:38:42.550850464Z",
     "start_time": "2023-06-08T07:38:42.520054318Z"
    },
    "deletable": false,
    "nbgrader": {
     "cell_type": "code",
     "checksum": "b911bbe1e629a3d494d67ab6f13b3f92",
     "grade": false,
     "grade_id": "cell-76b864dbee9160b7",
     "locked": false,
     "schema_version": 3,
     "solution": true,
     "task": false
    }
   },
   "outputs": [],
   "source": [
    "\n",
    "# YOUR CODE HERE\n",
    "# convert sex to numDataFrame.replace(to_replace=None, value=_NoDefault.no_default, *, inplace=False, limit=None, regex=False, method=_NoDefault.no_default)\n",
    "tips['sex'] = tips['sex'].replace('Male', 0)\n",
    "tips['sex'] = tips['sex'].replace('Female', 1)\n",
    "\n",
    "#convert smoker\n",
    "tips['smoker'] = tips['smoker'].replace('No', 0)\n",
    "tips['smoker'] = tips['smoker'].replace('Yes', 1)\n",
    "\n",
    "# day\n",
    "days = ['Thur', 'Fri', 'Sat', 'Sun']\n",
    "\n",
    "for day in days:\n",
    "    tips[day] = (tips['day'] == day).astype(int)\n",
    "    #tips['day'] = tips['day'].replace(days, 1)\n",
    "tips.drop('day', axis=1, inplace=True)"
   ]
  },
  {
   "cell_type": "code",
   "execution_count": 28,
   "metadata": {
    "ExecuteTime": {
     "end_time": "2023-06-08T07:38:42.551057354Z",
     "start_time": "2023-06-08T07:38:42.520152937Z"
    }
   },
   "outputs": [
    {
     "data": {
      "text/html": [
       "<div>\n",
       "<style scoped>\n",
       "    .dataframe tbody tr th:only-of-type {\n",
       "        vertical-align: middle;\n",
       "    }\n",
       "\n",
       "    .dataframe tbody tr th {\n",
       "        vertical-align: top;\n",
       "    }\n",
       "\n",
       "    .dataframe thead th {\n",
       "        text-align: right;\n",
       "    }\n",
       "</style>\n",
       "<table border=\"1\" class=\"dataframe\">\n",
       "  <thead>\n",
       "    <tr style=\"text-align: right;\">\n",
       "      <th></th>\n",
       "      <th>total_bill</th>\n",
       "      <th>tip</th>\n",
       "      <th>sex</th>\n",
       "      <th>smoker</th>\n",
       "      <th>time</th>\n",
       "      <th>size</th>\n",
       "      <th>Thur</th>\n",
       "      <th>Fri</th>\n",
       "      <th>Sat</th>\n",
       "      <th>Sun</th>\n",
       "    </tr>\n",
       "  </thead>\n",
       "  <tbody>\n",
       "    <tr>\n",
       "      <th>0</th>\n",
       "      <td>16.99</td>\n",
       "      <td>1.01</td>\n",
       "      <td>1</td>\n",
       "      <td>0</td>\n",
       "      <td>Dinner</td>\n",
       "      <td>2</td>\n",
       "      <td>0</td>\n",
       "      <td>0</td>\n",
       "      <td>0</td>\n",
       "      <td>1</td>\n",
       "    </tr>\n",
       "    <tr>\n",
       "      <th>1</th>\n",
       "      <td>10.34</td>\n",
       "      <td>1.66</td>\n",
       "      <td>0</td>\n",
       "      <td>0</td>\n",
       "      <td>Dinner</td>\n",
       "      <td>3</td>\n",
       "      <td>0</td>\n",
       "      <td>0</td>\n",
       "      <td>0</td>\n",
       "      <td>1</td>\n",
       "    </tr>\n",
       "    <tr>\n",
       "      <th>2</th>\n",
       "      <td>21.01</td>\n",
       "      <td>3.50</td>\n",
       "      <td>0</td>\n",
       "      <td>0</td>\n",
       "      <td>Dinner</td>\n",
       "      <td>3</td>\n",
       "      <td>0</td>\n",
       "      <td>0</td>\n",
       "      <td>0</td>\n",
       "      <td>1</td>\n",
       "    </tr>\n",
       "    <tr>\n",
       "      <th>3</th>\n",
       "      <td>23.68</td>\n",
       "      <td>3.31</td>\n",
       "      <td>0</td>\n",
       "      <td>0</td>\n",
       "      <td>Dinner</td>\n",
       "      <td>2</td>\n",
       "      <td>0</td>\n",
       "      <td>0</td>\n",
       "      <td>0</td>\n",
       "      <td>1</td>\n",
       "    </tr>\n",
       "    <tr>\n",
       "      <th>4</th>\n",
       "      <td>24.59</td>\n",
       "      <td>3.61</td>\n",
       "      <td>1</td>\n",
       "      <td>0</td>\n",
       "      <td>Dinner</td>\n",
       "      <td>4</td>\n",
       "      <td>0</td>\n",
       "      <td>0</td>\n",
       "      <td>0</td>\n",
       "      <td>1</td>\n",
       "    </tr>\n",
       "    <tr>\n",
       "      <th>...</th>\n",
       "      <td>...</td>\n",
       "      <td>...</td>\n",
       "      <td>...</td>\n",
       "      <td>...</td>\n",
       "      <td>...</td>\n",
       "      <td>...</td>\n",
       "      <td>...</td>\n",
       "      <td>...</td>\n",
       "      <td>...</td>\n",
       "      <td>...</td>\n",
       "    </tr>\n",
       "    <tr>\n",
       "      <th>239</th>\n",
       "      <td>29.03</td>\n",
       "      <td>5.92</td>\n",
       "      <td>0</td>\n",
       "      <td>0</td>\n",
       "      <td>Dinner</td>\n",
       "      <td>3</td>\n",
       "      <td>0</td>\n",
       "      <td>0</td>\n",
       "      <td>1</td>\n",
       "      <td>0</td>\n",
       "    </tr>\n",
       "    <tr>\n",
       "      <th>240</th>\n",
       "      <td>27.18</td>\n",
       "      <td>2.00</td>\n",
       "      <td>1</td>\n",
       "      <td>1</td>\n",
       "      <td>Dinner</td>\n",
       "      <td>2</td>\n",
       "      <td>0</td>\n",
       "      <td>0</td>\n",
       "      <td>1</td>\n",
       "      <td>0</td>\n",
       "    </tr>\n",
       "    <tr>\n",
       "      <th>241</th>\n",
       "      <td>22.67</td>\n",
       "      <td>2.00</td>\n",
       "      <td>0</td>\n",
       "      <td>1</td>\n",
       "      <td>Dinner</td>\n",
       "      <td>2</td>\n",
       "      <td>0</td>\n",
       "      <td>0</td>\n",
       "      <td>1</td>\n",
       "      <td>0</td>\n",
       "    </tr>\n",
       "    <tr>\n",
       "      <th>242</th>\n",
       "      <td>17.82</td>\n",
       "      <td>1.75</td>\n",
       "      <td>0</td>\n",
       "      <td>0</td>\n",
       "      <td>Dinner</td>\n",
       "      <td>2</td>\n",
       "      <td>0</td>\n",
       "      <td>0</td>\n",
       "      <td>1</td>\n",
       "      <td>0</td>\n",
       "    </tr>\n",
       "    <tr>\n",
       "      <th>243</th>\n",
       "      <td>18.78</td>\n",
       "      <td>3.00</td>\n",
       "      <td>1</td>\n",
       "      <td>0</td>\n",
       "      <td>Dinner</td>\n",
       "      <td>2</td>\n",
       "      <td>1</td>\n",
       "      <td>0</td>\n",
       "      <td>0</td>\n",
       "      <td>0</td>\n",
       "    </tr>\n",
       "  </tbody>\n",
       "</table>\n",
       "<p>244 rows × 10 columns</p>\n",
       "</div>"
      ],
      "text/plain": [
       "     total_bill   tip sex smoker    time  size  Thur  Fri  Sat  Sun\n",
       "0         16.99  1.01   1      0  Dinner     2     0    0    0    1\n",
       "1         10.34  1.66   0      0  Dinner     3     0    0    0    1\n",
       "2         21.01  3.50   0      0  Dinner     3     0    0    0    1\n",
       "3         23.68  3.31   0      0  Dinner     2     0    0    0    1\n",
       "4         24.59  3.61   1      0  Dinner     4     0    0    0    1\n",
       "..          ...   ...  ..    ...     ...   ...   ...  ...  ...  ...\n",
       "239       29.03  5.92   0      0  Dinner     3     0    0    1    0\n",
       "240       27.18  2.00   1      1  Dinner     2     0    0    1    0\n",
       "241       22.67  2.00   0      1  Dinner     2     0    0    1    0\n",
       "242       17.82  1.75   0      0  Dinner     2     0    0    1    0\n",
       "243       18.78  3.00   1      0  Dinner     2     1    0    0    0\n",
       "\n",
       "[244 rows x 10 columns]"
      ]
     },
     "execution_count": 28,
     "metadata": {},
     "output_type": "execute_result"
    }
   ],
   "source": [
    "tips"
   ]
  },
  {
   "cell_type": "code",
   "execution_count": null,
   "metadata": {},
   "outputs": [],
   "source": []
  },
  {
   "cell_type": "code",
   "execution_count": 29,
   "metadata": {
    "ExecuteTime": {
     "end_time": "2023-06-08T07:38:42.695926102Z",
     "start_time": "2023-06-08T07:38:42.532650289Z"
    },
    "deletable": false,
    "editable": false,
    "nbgrader": {
     "cell_type": "code",
     "checksum": "9cffcf9306cd57d76aacea285016b6af",
     "grade": true,
     "grade_id": "cell-8910792bf79dd201",
     "locked": true,
     "points": 3,
     "schema_version": 3,
     "solution": false,
     "task": false
    }
   },
   "outputs": [],
   "source": [
    "assert all(\n",
    "    tips.columns == ['total_bill', 'tip', 'sex', 'smoker', 'time', 'size', 'Thur', 'Fri', 'Sat',\n",
    "                     'Sun'])\n"
   ]
  },
  {
   "attachments": {},
   "cell_type": "markdown",
   "metadata": {
    "deletable": false,
    "editable": false,
    "nbgrader": {
     "cell_type": "markdown",
     "checksum": "74eeb26aaeadc9a36e0456eba6e78d11",
     "grade": false,
     "grade_id": "cell-ab33555e0e6b8841",
     "locked": true,
     "schema_version": 3,
     "solution": false,
     "task": false
    }
   },
   "source": [
    "### Task 1b: Creating Group Averages:\n",
    "To analyze the tipping behavior during lunch and dinner separately, calculate the average tip amount for each time period. and create the lunch_df and dinner_df subset dataframes. This mostly is a task to see that you did split the groups correctly."
   ]
  },
  {
   "cell_type": "code",
   "execution_count": 37,
   "metadata": {
    "ExecuteTime": {
     "end_time": "2023-06-08T07:38:42.696214168Z",
     "start_time": "2023-06-08T07:38:42.543488059Z"
    },
    "deletable": false,
    "nbgrader": {
     "cell_type": "code",
     "checksum": "717e27d89d1566aee51d0f20d678cca1",
     "grade": false,
     "grade_id": "cell-121fff3f5472646f",
     "locked": false,
     "schema_version": 3,
     "solution": true,
     "task": false
    }
   },
   "outputs": [
    {
     "name": "stdout",
     "output_type": "stream",
     "text": [
      "Average tip amount for lunch: $2.73\n",
      "Average tip amount for dinner: $3.10\n"
     ]
    }
   ],
   "source": [
    "# YOUR CODE HERE\n",
    "\n",
    "#subset dataframes\n",
    "lunch_ = tips.loc[tips['time'] == 'Lunch', ['time', 'tip']]\n",
    "diner_ = tips.loc[tips['time'] == 'Dinner', ['time', 'tip']]\n",
    "#print(lunch_)\n",
    "\n",
    "# average\n",
    "lunch_avg  = lunch_['tip'].mean()\n",
    "dinner_avg = diner_['tip'].mean()\n",
    "\n",
    "print('Average tip amount for lunch: ${:.2f}'.format(lunch_avg))\n",
    "print('Average tip amount for dinner: ${:.2f}'.format(dinner_avg))"
   ]
  },
  {
   "cell_type": "code",
   "execution_count": null,
   "metadata": {
    "ExecuteTime": {
     "end_time": "2023-06-08T07:38:42.696263677Z",
     "start_time": "2023-06-08T07:38:42.584153788Z"
    },
    "deletable": false,
    "editable": false,
    "nbgrader": {
     "cell_type": "code",
     "checksum": "0d9ff3eaf46412beb72bbc3c5c892dc5",
     "grade": true,
     "grade_id": "cell-9647d741607d52a2",
     "locked": true,
     "points": 1,
     "schema_version": 3,
     "solution": false,
     "task": false
    }
   },
   "outputs": [],
   "source": []
  },
  {
   "attachments": {},
   "cell_type": "markdown",
   "metadata": {
    "deletable": false,
    "editable": false,
    "nbgrader": {
     "cell_type": "markdown",
     "checksum": "b7763a48484c4226920f55e7c5f5a564",
     "grade": false,
     "grade_id": "cell-4faf3e60e491c126",
     "locked": true,
     "schema_version": 3,
     "solution": false,
     "task": false
    }
   },
   "source": [
    "### Task 1c: Creating Two Separate Regressions:\n",
    "To further analyze the tipping behavior during lunch and dinner, we can perform separate linear regression analyses to explore any potential relationships between tip amount and all explanatory variables for each time period respectively."
   ]
  },
  {
   "cell_type": "code",
   "execution_count": 39,
   "metadata": {
    "ExecuteTime": {
     "end_time": "2023-06-08T07:38:42.698803615Z",
     "start_time": "2023-06-08T07:38:42.584268743Z"
    },
    "deletable": false,
    "nbgrader": {
     "cell_type": "code",
     "checksum": "3af35b4249fb763ed119ed7b41f870ae",
     "grade": false,
     "grade_id": "cell-d3559b42e5c33904",
     "locked": false,
     "schema_version": 3,
     "solution": true,
     "task": false
    }
   },
   "outputs": [
    {
     "data": {
      "text/html": [
       "<style>#sk-container-id-1 {color: black;background-color: white;}#sk-container-id-1 pre{padding: 0;}#sk-container-id-1 div.sk-toggleable {background-color: white;}#sk-container-id-1 label.sk-toggleable__label {cursor: pointer;display: block;width: 100%;margin-bottom: 0;padding: 0.3em;box-sizing: border-box;text-align: center;}#sk-container-id-1 label.sk-toggleable__label-arrow:before {content: \"▸\";float: left;margin-right: 0.25em;color: #696969;}#sk-container-id-1 label.sk-toggleable__label-arrow:hover:before {color: black;}#sk-container-id-1 div.sk-estimator:hover label.sk-toggleable__label-arrow:before {color: black;}#sk-container-id-1 div.sk-toggleable__content {max-height: 0;max-width: 0;overflow: hidden;text-align: left;background-color: #f0f8ff;}#sk-container-id-1 div.sk-toggleable__content pre {margin: 0.2em;color: black;border-radius: 0.25em;background-color: #f0f8ff;}#sk-container-id-1 input.sk-toggleable__control:checked~div.sk-toggleable__content {max-height: 200px;max-width: 100%;overflow: auto;}#sk-container-id-1 input.sk-toggleable__control:checked~label.sk-toggleable__label-arrow:before {content: \"▾\";}#sk-container-id-1 div.sk-estimator input.sk-toggleable__control:checked~label.sk-toggleable__label {background-color: #d4ebff;}#sk-container-id-1 div.sk-label input.sk-toggleable__control:checked~label.sk-toggleable__label {background-color: #d4ebff;}#sk-container-id-1 input.sk-hidden--visually {border: 0;clip: rect(1px 1px 1px 1px);clip: rect(1px, 1px, 1px, 1px);height: 1px;margin: -1px;overflow: hidden;padding: 0;position: absolute;width: 1px;}#sk-container-id-1 div.sk-estimator {font-family: monospace;background-color: #f0f8ff;border: 1px dotted black;border-radius: 0.25em;box-sizing: border-box;margin-bottom: 0.5em;}#sk-container-id-1 div.sk-estimator:hover {background-color: #d4ebff;}#sk-container-id-1 div.sk-parallel-item::after {content: \"\";width: 100%;border-bottom: 1px solid gray;flex-grow: 1;}#sk-container-id-1 div.sk-label:hover label.sk-toggleable__label {background-color: #d4ebff;}#sk-container-id-1 div.sk-serial::before {content: \"\";position: absolute;border-left: 1px solid gray;box-sizing: border-box;top: 0;bottom: 0;left: 50%;z-index: 0;}#sk-container-id-1 div.sk-serial {display: flex;flex-direction: column;align-items: center;background-color: white;padding-right: 0.2em;padding-left: 0.2em;position: relative;}#sk-container-id-1 div.sk-item {position: relative;z-index: 1;}#sk-container-id-1 div.sk-parallel {display: flex;align-items: stretch;justify-content: center;background-color: white;position: relative;}#sk-container-id-1 div.sk-item::before, #sk-container-id-1 div.sk-parallel-item::before {content: \"\";position: absolute;border-left: 1px solid gray;box-sizing: border-box;top: 0;bottom: 0;left: 50%;z-index: -1;}#sk-container-id-1 div.sk-parallel-item {display: flex;flex-direction: column;z-index: 1;position: relative;background-color: white;}#sk-container-id-1 div.sk-parallel-item:first-child::after {align-self: flex-end;width: 50%;}#sk-container-id-1 div.sk-parallel-item:last-child::after {align-self: flex-start;width: 50%;}#sk-container-id-1 div.sk-parallel-item:only-child::after {width: 0;}#sk-container-id-1 div.sk-dashed-wrapped {border: 1px dashed gray;margin: 0 0.4em 0.5em 0.4em;box-sizing: border-box;padding-bottom: 0.4em;background-color: white;}#sk-container-id-1 div.sk-label label {font-family: monospace;font-weight: bold;display: inline-block;line-height: 1.2em;}#sk-container-id-1 div.sk-label-container {text-align: center;}#sk-container-id-1 div.sk-container {/* jupyter's `normalize.less` sets `[hidden] { display: none; }` but bootstrap.min.css set `[hidden] { display: none !important; }` so we also need the `!important` here to be able to override the default hidden behavior on the sphinx rendered scikit-learn.org. See: https://github.com/scikit-learn/scikit-learn/issues/21755 */display: inline-block !important;position: relative;}#sk-container-id-1 div.sk-text-repr-fallback {display: none;}</style><div id=\"sk-container-id-1\" class=\"sk-top-container\"><div class=\"sk-text-repr-fallback\"><pre>LinearRegression()</pre><b>In a Jupyter environment, please rerun this cell to show the HTML representation or trust the notebook. <br />On GitHub, the HTML representation is unable to render, please try loading this page with nbviewer.org.</b></div><div class=\"sk-container\" hidden><div class=\"sk-item\"><div class=\"sk-estimator sk-toggleable\"><input class=\"sk-toggleable__control sk-hidden--visually\" id=\"sk-estimator-id-1\" type=\"checkbox\" checked><label for=\"sk-estimator-id-1\" class=\"sk-toggleable__label sk-toggleable__label-arrow\">LinearRegression</label><div class=\"sk-toggleable__content\"><pre>LinearRegression()</pre></div></div></div></div></div>"
      ],
      "text/plain": [
       "LinearRegression()"
      ]
     },
     "execution_count": 39,
     "metadata": {},
     "output_type": "execute_result"
    }
   ],
   "source": [
    "from sklearn.linear_model import LinearRegression\n",
    "\n",
    "np.random.seed(42)  # do not change this!\n",
    "\n",
    "lunch_reg = LinearRegression()\n",
    "dinner_reg = LinearRegression()\n",
    "\n",
    "lunch_df = tips[tips['time'] == 'Lunch']\n",
    "dinner_df = tips[tips['time'] == 'Dinner']\n",
    "\n",
    "explanatory_columns = ['total_bill', 'sex', 'smoker', 'size', 'Thur', 'Fri', 'Sat', 'Sun'] # make this a list\n",
    "\n",
    "# YOUR CODE HERE\n",
    "lunch_reg.fit(lunch_df[explanatory_columns], lunch_df['tip'])\n",
    "dinner_reg.fit(dinner_df[explanatory_columns], dinner_df['tip'])\n",
    "\n"
   ]
  },
  {
   "cell_type": "code",
   "execution_count": 40,
   "metadata": {
    "ExecuteTime": {
     "end_time": "2023-06-08T07:38:42.758223819Z",
     "start_time": "2023-06-08T07:38:42.667755169Z"
    }
   },
   "outputs": [],
   "source": [
    "assert len(explanatory_columns) == 8"
   ]
  },
  {
   "cell_type": "code",
   "execution_count": null,
   "metadata": {
    "ExecuteTime": {
     "end_time": "2023-06-08T07:38:42.818183352Z",
     "start_time": "2023-06-08T07:38:42.733030320Z"
    }
   },
   "outputs": [],
   "source": [
    "# Create a DataFrame of coefficients\n",
    "coefficients_lunch = pd.DataFrame(\n",
    "    {'Feature': explanatory_columns, 'Coefficient': lunch_reg.coef_.flatten()})\n",
    "coefficients_dinner = pd.DataFrame(\n",
    "    {'Feature': explanatory_columns, 'Coefficient': dinner_reg.coef_.flatten()})\n",
    "\n",
    "print('Coefficients for lunch regression\\n', coefficients_lunch)\n",
    "print('\\nCoefficients for dinner regression\\n', coefficients_dinner)\n",
    "\n"
   ]
  },
  {
   "cell_type": "code",
   "execution_count": null,
   "metadata": {
    "ExecuteTime": {
     "end_time": "2023-06-08T07:38:42.818303797Z",
     "start_time": "2023-06-08T07:38:42.733210794Z"
    },
    "deletable": false,
    "editable": false,
    "nbgrader": {
     "cell_type": "code",
     "checksum": "dba347f67b8f9e8a69f0d51aeb23b91d",
     "grade": true,
     "grade_id": "cell-17266650e24437d8",
     "locked": true,
     "points": 3,
     "schema_version": 3,
     "solution": false,
     "task": false
    }
   },
   "outputs": [],
   "source": []
  },
  {
   "attachments": {},
   "cell_type": "markdown",
   "metadata": {},
   "source": [
    "### Interpreting coefficients. Given the following altered tables of coefficients answer the following questions:\n",
    "Lunch\n",
    "\n",
    "| Feature | Coefficient     |\n",
    "|---------|-----------------|\n",
    "| Fri     | 7.578246e-02    |\n",
    "| Sat     | 1.526557e-16    |\n",
    "| Sun     | 0.000000e+00    |\n",
    "| Thur    | -7.578246e-02   |\n",
    "| sex     | -1.278410e-01   |\n",
    "| size    | 2.134928e-01    |\n",
    "| smoker  | 1.349292e-01    |\n",
    "| total_bill | 1.054946e-01 |\n",
    "\n",
    "\n",
    "Dinner\n",
    "\n",
    "| Feature | Coefficient     |\n",
    "|---------|-----------------|\n",
    "| Fri     | 0.038579        |\n",
    "| Sat     | -0.067515       |\n",
    "| Sun     | 0.026320        |\n",
    "| Thur    | 0.002615        |\n",
    "| sex     | 0.117686        |\n",
    "| size    | 0.144462        |\n",
    "| smoker  | -0.177808       |\n",
    "| total_bill | 0.092791    |\n",
    "\n",
    "\n",
    "\n"
   ]
  },
  {
   "attachments": {},
   "cell_type": "markdown",
   "metadata": {
    "deletable": false,
    "editable": false,
    "nbgrader": {
     "cell_type": "markdown",
     "checksum": "9fc64d82c0966ff977a42e1db626bbb0",
     "grade": false,
     "grade_id": "cell-283461aceee375c9",
     "locked": true,
     "schema_version": 3,
     "solution": false,
     "task": false
    }
   },
   "source": [
    "\n",
    "### Task 1d: multiple choice: Which of the following statements is true? Indicate all that apply as a string in the list below.\n",
    "i.e. choosing A & B would be ['A', 'B']\n",
    "\n",
    "\n",
    "A) The tip amount in Euros (€) decreases by approximately €1.054946 for each Euro increase in the total bill during lunch, and by approximately €0.092791 during dinner, all else being equal.\n",
    "\n",
    "B) The tip amount in Euros (€) remains constant regardless of the total bill amount during both lunch and dinner.\n",
    "\n",
    "C) The tip amount in Euros (€) increases by approximately €1.054946 for each Euro increase in the total bill \n",
    "during lunch, and by approximately €0.092791 during dinner, all else being equal.\n",
    "\n",
    "D) The tip amount in Euros (€) is unrelated to the total bill amount during both lunch and dinner."
   ]
  },
  {
   "cell_type": "code",
   "execution_count": null,
   "metadata": {
    "ExecuteTime": {
     "end_time": "2023-06-08T07:38:42.818937245Z",
     "start_time": "2023-06-08T07:38:42.733249103Z"
    },
    "deletable": false,
    "nbgrader": {
     "cell_type": "code",
     "checksum": "63e6d647882ea7f6738d8b41e68a8f3f",
     "grade": false,
     "grade_id": "cell-4e928703d556d50e",
     "locked": false,
     "schema_version": 3,
     "solution": true,
     "task": false
    }
   },
   "outputs": [],
   "source": [
    "# answer_d1 = []\n",
    "# YOUR CODE HERE\n",
    "raise NotImplementedError"
   ]
  },
  {
   "cell_type": "code",
   "execution_count": null,
   "metadata": {
    "ExecuteTime": {
     "end_time": "2023-06-08T07:38:42.819042784Z",
     "start_time": "2023-06-08T07:38:42.756096069Z"
    },
    "deletable": false,
    "editable": false,
    "nbgrader": {
     "cell_type": "code",
     "checksum": "c613e6a0523f5629f7b1fc6b593c510d",
     "grade": true,
     "grade_id": "cell-38d68f16fd551704",
     "locked": true,
     "points": 2,
     "schema_version": 3,
     "solution": false,
     "task": false
    }
   },
   "outputs": [],
   "source": []
  },
  {
   "attachments": {},
   "cell_type": "markdown",
   "metadata": {
    "deletable": false,
    "editable": false,
    "nbgrader": {
     "cell_type": "markdown",
     "checksum": "d06d0fbb94490aa4d4d9225b00728383",
     "grade": false,
     "grade_id": "cell-445f22e55190142b",
     "locked": true,
     "schema_version": 3,
     "solution": false,
     "task": false
    }
   },
   "source": [
    "### Task 1e: multiple choice: Which of the following statements is true? Indicate all that apply as a string in the list below.\n",
    "\n",
    "A) Being male is associated with a decrease of approximately €0.13 in the tip amount during lunch, compared to being female, all else being equal.\n",
    "\n",
    "B) Being male is associated with an increase of approximately €0.13 in the tip amount during lunch, compared to being female, all else being equal.\n",
    "\n",
    "C) The 'sex' variable has no effect on the tip amount during lunch.\n",
    "\n",
    "D) Being male is associated with a decrease of approximately €0.12 in the tip amount during dinner, compared to being female, all else being equal.\n",
    "\n",
    "E) The 'sex' variable has no significant effect on the tip amount during dinner.\n",
    "\n"
   ]
  },
  {
   "cell_type": "code",
   "execution_count": null,
   "metadata": {
    "ExecuteTime": {
     "end_time": "2023-06-08T07:38:42.819083251Z",
     "start_time": "2023-06-08T07:38:42.756526401Z"
    },
    "deletable": false,
    "nbgrader": {
     "cell_type": "code",
     "checksum": "d63f0753a15c78e4ec1f487caaa0ea58",
     "grade": false,
     "grade_id": "cell-881c365f01afafd8",
     "locked": false,
     "schema_version": 3,
     "solution": true,
     "task": false
    }
   },
   "outputs": [],
   "source": [
    "# consider the ecoding of the sex variable!\n",
    "# answer_d2 = []\n",
    "# YOUR CODE HERE\n",
    "raise NotImplementedError"
   ]
  },
  {
   "cell_type": "code",
   "execution_count": null,
   "metadata": {
    "ExecuteTime": {
     "end_time": "2023-06-08T07:38:42.820822885Z",
     "start_time": "2023-06-08T07:38:42.756565434Z"
    },
    "deletable": false,
    "editable": false,
    "nbgrader": {
     "cell_type": "code",
     "checksum": "74fa1ea2e7d5d3d48758a88f447ddcd7",
     "grade": true,
     "grade_id": "cell-9e9c843ccdb88014",
     "locked": true,
     "points": 2,
     "schema_version": 3,
     "solution": false,
     "task": false
    }
   },
   "outputs": [],
   "source": []
  },
  {
   "attachments": {},
   "cell_type": "markdown",
   "metadata": {},
   "source": [
    "# Part 2: Overview Learning"
   ]
  },
  {
   "attachments": {},
   "cell_type": "markdown",
   "metadata": {
    "deletable": false,
    "editable": false,
    "nbgrader": {
     "cell_type": "markdown",
     "checksum": "b8b243df4f07bca50717b72a508e0db0",
     "grade": false,
     "grade_id": "cell-604a64249e9260d7",
     "locked": true,
     "schema_version": 3,
     "solution": false,
     "task": false
    }
   },
   "source": [
    "### Task 2: Choose the right learning paradigm\n",
    "Now, your task is to identify the learning paradigm that best fits each scenario. Write the letter(s) of the description(s) into the corresponding paradigm list:\n",
    "(Supervised Learning - Regression, Supervised Learning - Classification, Unsupervised Learning - Clustering, Semi-Supervised Learning, Self-Supervised Learning, or Reinforcement Learning)"
   ]
  },
  {
   "attachments": {},
   "cell_type": "markdown",
   "metadata": {
    "deletable": false,
    "editable": false,
    "nbgrader": {
     "cell_type": "markdown",
     "checksum": "8aeddfbc19915ae978fec68312ddef50",
     "grade": false,
     "grade_id": "cell-fbaa3305592c76a1",
     "locked": true,
     "schema_version": 3,
     "solution": false,
     "task": false
    }
   },
   "source": [
    "A) Predicting the stock price of a company based on historical market data.\n",
    "\n",
    "B) Grouping customers based on their purchasing behavior without any prior knowledge of customer segments.\n",
    "\n",
    "C) Teaching a chatbot to classify customer inquiries into different categories based on the text content, based on a dataset of human labeled examples.\n",
    "\n",
    "D) Analyzing customer feedback to identify common themes and patterns without any predefined categories.\n",
    "\n",
    "E) Training a model to predict the sentiment (positive, negative, neutral) of movie reviews based on the text.\n",
    "\n",
    "F) Discovering hidden topics in a large collection of research papers without any prior knowledge of the subjects.\n",
    "\n",
    "G) Fine-tuning a pretrained image recognition model on a dataset of specific objects to improve its accuracy in recognizing those objects.\n",
    "\n",
    "H) Training a model to label untagged images using a small set of labeled images.\n",
    "\n",
    "I) Teaching a self-driving car to navigate through a city by rewarding it for reaching its destination\n",
    "efficiently.\n",
    "\n",
    "J) Pretraining a language model on a corpus of text to generate meaningful text outputs.\n"
   ]
  },
  {
   "cell_type": "code",
   "execution_count": null,
   "metadata": {
    "ExecuteTime": {
     "end_time": "2023-06-08T07:38:42.821828777Z",
     "start_time": "2023-06-08T07:38:42.765186039Z"
    },
    "deletable": false,
    "nbgrader": {
     "cell_type": "code",
     "checksum": "407d738a756c34d66235b9c88faf293e",
     "grade": false,
     "grade_id": "cell-cea1a2478f480d83",
     "locked": false,
     "schema_version": 3,
     "solution": true,
     "task": false
    }
   },
   "outputs": [],
   "source": [
    "# supervised = []\n",
    "# unsupervised = []\n",
    "# semi_supervised = []\n",
    "# self_supervised = []\n",
    "# reinforcement = []\n",
    "\n",
    "# YOUR CODE HERE\n",
    "raise NotImplementedError"
   ]
  },
  {
   "cell_type": "code",
   "execution_count": null,
   "metadata": {
    "ExecuteTime": {
     "end_time": "2023-06-08T07:38:42.821897394Z",
     "start_time": "2023-06-08T07:38:42.808068122Z"
    },
    "deletable": false,
    "editable": false,
    "nbgrader": {
     "cell_type": "code",
     "checksum": "0aa063c2f336106bb5caef1415ce179c",
     "grade": true,
     "grade_id": "cell-abad7fc7ecbefdce",
     "locked": true,
     "points": 5,
     "schema_version": 3,
     "solution": false,
     "task": false
    }
   },
   "outputs": [],
   "source": [
    "# you have sorted all examples into the lists\n",
    "assert set.union(set(supervised), set(unsupervised), set(semi_supervised), set(self_supervised),\n",
    "                 set(reinforcement)) == set(['A', 'B', 'C', 'D', 'E', 'F', 'G', 'H', 'I', 'J'])\n",
    "\n"
   ]
  },
  {
   "attachments": {},
   "cell_type": "markdown",
   "metadata": {
    "deletable": false,
    "editable": false,
    "nbgrader": {
     "cell_type": "markdown",
     "checksum": "aee4a519f7189d9be899214462b7ae61",
     "grade": false,
     "grade_id": "cell-a264f532c1b3ca76",
     "locked": true,
     "schema_version": 3,
     "solution": false,
     "task": false
    }
   },
   "source": [
    "# Part 3 Classification"
   ]
  },
  {
   "attachments": {},
   "cell_type": "markdown",
   "metadata": {
    "deletable": false,
    "editable": false,
    "nbgrader": {
     "cell_type": "markdown",
     "checksum": "735e98c4d7432412a2d4f7b559543273",
     "grade": false,
     "grade_id": "cell-e4febdc75ef5e450",
     "locked": true,
     "schema_version": 3,
     "solution": false,
     "task": false
    }
   },
   "source": [
    "# Decision Trees and Random Forests\n",
    "\n",
    "In this assignment, we will have you train a multi-class classifier with two different models (decision tree, random forest) and compare the accuracies and decision boundaries created by each. We'll be looking at a dataset of per-game stats for all NBA players in the 2018-19 season. This dataset comes from [basketball-reference.com](https://www.basketball-reference.com/)."
   ]
  },
  {
   "cell_type": "code",
   "execution_count": null,
   "metadata": {
    "ExecuteTime": {
     "end_time": "2023-06-08T07:38:42.915792393Z",
     "start_time": "2023-06-08T07:38:42.808224603Z"
    }
   },
   "outputs": [],
   "source": [
    "import numpy as np\n",
    "import pandas as pd\n",
    "import matplotlib.pyplot as plt\n",
    "import seaborn as sns\n",
    "from sklearn.model_selection import train_test_split\n",
    "from sklearn import ensemble"
   ]
  },
  {
   "cell_type": "code",
   "execution_count": null,
   "metadata": {
    "ExecuteTime": {
     "end_time": "2023-06-08T07:38:42.935447159Z",
     "start_time": "2023-06-08T07:38:42.851991277Z"
    }
   },
   "outputs": [],
   "source": [
    "nba_data = pd.read_csv(\"nba18-19.csv\")\n",
    "nba_data.head(5)"
   ]
  },
  {
   "attachments": {},
   "cell_type": "markdown",
   "metadata": {
    "deletable": false,
    "editable": false,
    "nbgrader": {
     "cell_type": "markdown",
     "checksum": "b37c30a6d071b0a265877a95d65db2b7",
     "grade": false,
     "grade_id": "cell-2024fad27899b128",
     "locked": true,
     "schema_version": 3,
     "solution": false,
     "task": false
    }
   },
   "source": [
    "Our goal will be to predict a player's position given several other features. The 5 positions in basketball are PG, SG, SF, PF, and C (which stand for point guard, shooting guard, small forward, power forward, and center). This information is contained in the `Pos` column."
   ]
  },
  {
   "cell_type": "code",
   "execution_count": null,
   "metadata": {
    "ExecuteTime": {
     "end_time": "2023-06-08T07:38:42.935641182Z",
     "start_time": "2023-06-08T07:38:42.852118905Z"
    }
   },
   "outputs": [],
   "source": [
    "nba_data['Pos'].value_counts()"
   ]
  },
  {
   "attachments": {},
   "cell_type": "markdown",
   "metadata": {
    "deletable": false,
    "editable": false,
    "nbgrader": {
     "cell_type": "markdown",
     "checksum": "19638bb3fab3ddb6646b365087efbfa0",
     "grade": false,
     "grade_id": "cell-0c6cf98eaf9f08c8",
     "locked": true,
     "schema_version": 3,
     "solution": false,
     "task": false
    }
   },
   "source": [
    "While we could set out to try and perform 5-class classification, the results (and visualizations) are slightly more interesting if we try and categorize players into 1 of 3 categories: **guard**, **forward**, and **center**. The below code will take the `Pos` column of our dataframe and use it to create a new column `Pos3` that consist of values G, F, and C (which stand for guard, forward, and center)."
   ]
  },
  {
   "cell_type": "code",
   "execution_count": null,
   "metadata": {
    "ExecuteTime": {
     "end_time": "2023-06-08T07:38:42.936896425Z",
     "start_time": "2023-06-08T07:38:42.852178184Z"
    }
   },
   "outputs": [],
   "source": [
    "def basic_position(pos):\n",
    "    if 'F' in pos:\n",
    "        return 'F'\n",
    "    elif 'G' in pos:\n",
    "        return 'G'\n",
    "    return 'C'\n",
    "\n",
    "\n",
    "nba_data['Pos3'] = nba_data['Pos'].apply(basic_position)\n",
    "nba_data['Pos3'].value_counts()"
   ]
  },
  {
   "attachments": {},
   "cell_type": "markdown",
   "metadata": {
    "deletable": false,
    "editable": false,
    "nbgrader": {
     "cell_type": "markdown",
     "checksum": "684e1bff2aa8d3944d8d0a37238d47c0",
     "grade": false,
     "grade_id": "cell-1cee713bbba60a4d",
     "locked": true,
     "schema_version": 3,
     "solution": false,
     "task": false
    }
   },
   "source": [
    "Furthermore, since there are **many** players in the NBA (in the 2018-19 season there were 530 unique players), our visualizations can get noisy and messy. Let's restrict our data to only contain rows for players that averaged 10 or more points per game."
   ]
  },
  {
   "cell_type": "code",
   "execution_count": null,
   "metadata": {
    "ExecuteTime": {
     "end_time": "2023-06-08T07:38:42.936964694Z",
     "start_time": "2023-06-08T07:38:42.896267168Z"
    }
   },
   "outputs": [],
   "source": [
    "nba_data = nba_data[nba_data['PTS'] > 10]"
   ]
  },
  {
   "attachments": {},
   "cell_type": "markdown",
   "metadata": {},
   "source": [
    "Now, let's look at a scatterplot of Rebounds (`TRB`) vs. Assists (`AST`)."
   ]
  },
  {
   "cell_type": "code",
   "execution_count": null,
   "metadata": {
    "ExecuteTime": {
     "end_time": "2023-06-08T07:38:43.133198253Z",
     "start_time": "2023-06-08T07:38:42.896382581Z"
    }
   },
   "outputs": [],
   "source": [
    "sns.scatterplot(data=nba_data, x='AST', y='TRB', hue='Pos3')"
   ]
  },
  {
   "attachments": {},
   "cell_type": "markdown",
   "metadata": {
    "deletable": false,
    "editable": false,
    "nbgrader": {
     "cell_type": "markdown",
     "checksum": "81b7c36aebfa7b9b710005de1feeeb2a",
     "grade": false,
     "grade_id": "cell-e9feba3fd7e7f111",
     "locked": true,
     "schema_version": 3,
     "solution": false,
     "task": false
    }
   },
   "source": [
    "As you can see, when using just rebounds and assists as our features, we see pretty decent cluster separation. That is, Centers, Forwards, and Guards appear in different regions of the plot."
   ]
  },
  {
   "attachments": {},
   "cell_type": "markdown",
   "metadata": {
    "deletable": false,
    "editable": false,
    "nbgrader": {
     "cell_type": "markdown",
     "checksum": "af304069cc803aee94aaaf2b63f84a39",
     "grade": false,
     "grade_id": "cell-e5e70ebf2ef63e65",
     "locked": true,
     "schema_version": 3,
     "solution": false,
     "task": false
    }
   },
   "source": [
    "## Evaluating Split Quality\n",
    "\n",
    "We will explore different ways to evaluate split quality for classification and regression trees in this question.\n",
    "\n",
    "### Task 3a: Entropy\n",
    "\n",
    "In lecture we defined the entropy S of a node as:\n",
    "\n",
    "$$ S = -\\sum_{C} p_C \\log_{2} p_C $$\n",
    "\n",
    "where $p_C$ is the proportion of data points in a node with label $C$. This function helped us determine the unpredictability of a node in a decision tree.\n",
    "\n",
    "Implement the `entropy` function, which outputs the entropy of a node with a given set of labels. The `labels` parameter is a list of labels in our dataset. For example, `labels` could be `['G', 'G', 'F', 'F', 'C', 'C']`.\n",
    "\n"
   ]
  },
  {
   "cell_type": "code",
   "execution_count": null,
   "metadata": {
    "ExecuteTime": {
     "end_time": "2023-06-08T07:38:43.136530645Z",
     "start_time": "2023-06-08T07:38:43.135115287Z"
    },
    "deletable": false,
    "nbgrader": {
     "cell_type": "code",
     "checksum": "2835393c5ca25073e455eca64204daa9",
     "grade": false,
     "grade_id": "cell-626969ad38b8b4ca",
     "locked": false,
     "schema_version": 3,
     "solution": true,
     "task": false
    }
   },
   "outputs": [],
   "source": [
    "def entropy(labels):\n",
    "    # notice that this \n",
    "    # YOUR CODE HERE\n",
    "    raise NotImplementedError\n",
    "\n",
    "\n",
    "entropy(nba_data['Pos3'])"
   ]
  },
  {
   "cell_type": "code",
   "execution_count": null,
   "metadata": {
    "ExecuteTime": {
     "end_time": "2023-06-08T07:38:43.192448014Z",
     "start_time": "2023-06-08T07:38:43.137377583Z"
    },
    "deletable": false,
    "editable": false,
    "nbgrader": {
     "cell_type": "code",
     "checksum": "4a226c682fc341fe4a0145033d79627a",
     "grade": true,
     "grade_id": "cell-1ded3cb240a2a656",
     "locked": true,
     "points": 1,
     "schema_version": 3,
     "solution": false,
     "task": false
    }
   },
   "outputs": [],
   "source": []
  },
  {
   "attachments": {},
   "cell_type": "markdown",
   "metadata": {
    "deletable": false,
    "editable": false,
    "nbgrader": {
     "cell_type": "markdown",
     "checksum": "2f452d8edeab64abbfa8ec22af864b89",
     "grade": false,
     "grade_id": "cell-06b603d4a8c7a43b",
     "locked": true,
     "schema_version": 3,
     "solution": false,
     "task": false
    }
   },
   "source": [
    "### Task 3b: Weighted Entropy\n",
    "\n",
    "In the lecture, we used weighted entropy as a loss function to help us determine the best split. Recall that the weighted entropy is given by:\n",
    "\n",
    "$$ L = \\frac{N_1 S(X) + N_2 S(Y)}{N_1 + N_2} $$\n",
    "\n",
    "$N_1$ is the number of samples in the left node $X$, and $N_2$ is the number of samples in the right node $Y$. This notion of a weighted average can be extended to other metrics such as Gini impurity and variance simply by changing the $S$ (entropy) function to $G$ (Gini impurity) or $\\sigma^2$ (variance), but we won't go into detail here (just a pointer that there are other means of evaluating a split).\n",
    "\n",
    "First, implement the `weighted_metric` function. The `left` parameter is a list of labels or values in the left node $X$, and the `right` parameter is a list of labels or values in the right node $Y$. The `metric` parameter is a function which can be `entropy`. You may assume that `left` and `right` contain discrete labels.\n",
    "\n",
    "Then, assign `we_pos3_age_30` to the weighted entropy (in the `Pos3` column) of a split that partitions `nba_data` into two groups: a group with players who are 30 years old or older and a group with players who are younger than 30 years old.\n"
   ]
  },
  {
   "cell_type": "code",
   "execution_count": null,
   "metadata": {
    "ExecuteTime": {
     "end_time": "2023-06-08T07:38:43.193269993Z",
     "start_time": "2023-06-08T07:38:43.159638503Z"
    },
    "deletable": false,
    "nbgrader": {
     "cell_type": "code",
     "checksum": "5565c9d755001352b8c039d057f4cbb9",
     "grade": false,
     "grade_id": "cell-7c7fe77bcaa4c605",
     "locked": false,
     "schema_version": 3,
     "solution": true,
     "task": false
    }
   },
   "outputs": [],
   "source": [
    "def weighted_metric(left, right, metric):\n",
    "    # YOUR CODE HERE\n",
    "    raise NotImplementedError\n",
    "\n",
    "\n",
    "# proposed split: age > 30\n",
    "# YOUR CODE HERE\n",
    "raise NotImplementedError\n",
    "\n",
    "we_pos3_age_30 = weighted_metric(left, right, entropy)\n",
    "we_pos3_age_30"
   ]
  },
  {
   "cell_type": "code",
   "execution_count": null,
   "metadata": {
    "ExecuteTime": {
     "end_time": "2023-06-08T07:38:43.193341933Z",
     "start_time": "2023-06-08T07:38:43.175608066Z"
    },
    "deletable": false,
    "editable": false,
    "nbgrader": {
     "cell_type": "code",
     "checksum": "ba8cfd4a283809adf470462bb7104cdc",
     "grade": true,
     "grade_id": "cell-081734cfdb226cd2",
     "locked": true,
     "points": 1,
     "schema_version": 3,
     "solution": false,
     "task": false
    }
   },
   "outputs": [],
   "source": []
  },
  {
   "attachments": {},
   "cell_type": "markdown",
   "metadata": {
    "deletable": false,
    "editable": false,
    "nbgrader": {
     "cell_type": "markdown",
     "checksum": "dc20930eff20c5eb33e8837ada58fae8",
     "grade": false,
     "grade_id": "cell-5907a35a59e6ad17",
     "locked": true,
     "schema_version": 3,
     "solution": false,
     "task": false
    }
   },
   "source": [
    "We will not go over the entire decision tree fitting process in this assignment, but you now have the basic metric to fit a decision tree."
   ]
  },
  {
   "attachments": {},
   "cell_type": "markdown",
   "metadata": {
    "deletable": false,
    "editable": false,
    "nbgrader": {
     "cell_type": "markdown",
     "checksum": "7b30eacf9f718a13cd3d17b1738e7cbf",
     "grade": false,
     "grade_id": "cell-17b037bbdd285620",
     "locked": true,
     "schema_version": 3,
     "solution": false,
     "task": false
    }
   },
   "source": [
    "## Decision Tree Classifier\n",
    "\n",
    "Let's now create a decision tree classifier on the `nba_train` data, and look at the resulting decision boundary.\n",
    "\n",
    "In the following cell, first, use [`tree.DecisionTreeClassifier`](https://scikit-learn.org/stable/modules/generated/sklearn.tree.DecisionTreeClassifier.html) to fit a model using the same features and response as above, and call this model `decision_tree_model`. Set the `random_state` parameter to 42. Set the criterion to be `entropy`.\n",
    "\n",
    "**Hint:** Your code will be mostly the same as the previous part.\n",
    "\n"
   ]
  },
  {
   "cell_type": "code",
   "execution_count": null,
   "metadata": {
    "ExecuteTime": {
     "end_time": "2023-06-08T07:38:43.264231476Z",
     "start_time": "2023-06-08T07:38:43.187705901Z"
    },
    "deletable": false,
    "editable": false,
    "nbgrader": {
     "cell_type": "code",
     "checksum": "0614980a2c828a0b214981c7249de4b5",
     "grade": false,
     "grade_id": "cell-b676687261d2521c",
     "locked": true,
     "schema_version": 3,
     "solution": false,
     "task": false
    }
   },
   "outputs": [],
   "source": [
    "from sklearn.tree import DecisionTreeClassifier, plot_tree\n",
    "import matplotlib.pyplot as plt\n",
    "\n",
    "nba_train, nba_test = train_test_split(nba_data, test_size=0.25, random_state=100)\n",
    "nba_train = nba_train.sort_values(by='Pos')\n",
    "nba_test = nba_test.sort_values(by='Pos')\n"
   ]
  },
  {
   "cell_type": "code",
   "execution_count": null,
   "metadata": {
    "ExecuteTime": {
     "end_time": "2023-06-08T07:38:43.284231126Z",
     "start_time": "2023-06-08T07:38:43.228136169Z"
    }
   },
   "outputs": [],
   "source": [
    "\n",
    "# Then, fit that model using the AST and TRB columns (in that order) from nba_train as our features, and Pos3 as our response variable\n",
    "decision_tree_model = DecisionTreeClassifier(random_state=42, criterion='entropy')\n",
    "X, y = nba_train[['AST', 'TRB']], nba_train['Pos3']\n",
    "decision_tree_model.fit(X, y)\n",
    ";"
   ]
  },
  {
   "attachments": {},
   "cell_type": "markdown",
   "metadata": {
    "deletable": false,
    "editable": false,
    "nbgrader": {
     "cell_type": "markdown",
     "checksum": "236e76e287d0538eab8199f5c113ff51",
     "grade": false,
     "grade_id": "cell-797386bf7f01cc0d",
     "locked": true,
     "schema_version": 3,
     "solution": false,
     "task": false
    }
   },
   "source": [
    "### Task 3c: Model Quality (inspection)"
   ]
  },
  {
   "attachments": {},
   "cell_type": "markdown",
   "metadata": {
    "deletable": false,
    "editable": false,
    "nbgrader": {
     "cell_type": "markdown",
     "checksum": "9799ff97096a3bdcb4b720325ded2716",
     "grade": false,
     "grade_id": "cell-b81c0ffe681b9172",
     "locked": true,
     "schema_version": 3,
     "solution": false,
     "task": false
    }
   },
   "source": [
    "Just because sklearn already provides a function to plot the tree, let us have a look at it."
   ]
  },
  {
   "cell_type": "code",
   "execution_count": null,
   "metadata": {
    "ExecuteTime": {
     "end_time": "2023-06-08T07:38:45.029445240Z",
     "start_time": "2023-06-08T07:38:43.272093126Z"
    }
   },
   "outputs": [],
   "source": [
    "fig, ax = plt.subplots(figsize=(20, 16))\n",
    "plot_tree(decision_tree_model, filled=True, feature_names=['AST', 'TRB'],\n",
    "          class_names=['C', 'F', 'G'], ax=ax)"
   ]
  },
  {
   "attachments": {},
   "cell_type": "markdown",
   "metadata": {
    "deletable": false,
    "editable": false,
    "nbgrader": {
     "cell_type": "markdown",
     "checksum": "41db0acaba010973f81f02530b8ca908",
     "grade": false,
     "grade_id": "cell-7013a23490dfeac8",
     "locked": true,
     "schema_version": 3,
     "solution": false,
     "task": false
    }
   },
   "source": [
    "The following function will help us visualize the decision boundary of our classifier. You don't need to understand how it works, but you can read the code if you're curious."
   ]
  },
  {
   "cell_type": "code",
   "execution_count": null,
   "metadata": {
    "ExecuteTime": {
     "end_time": "2023-06-08T07:38:45.032105270Z",
     "start_time": "2023-06-08T07:38:45.029311931Z"
    },
    "deletable": false,
    "editable": false,
    "nbgrader": {
     "cell_type": "code",
     "checksum": "4309769b8aba444c9bc3c2e3491b555b",
     "grade": false,
     "grade_id": "cell-4679fb155176b7b4",
     "locked": true,
     "schema_version": 3,
     "solution": false,
     "task": false
    }
   },
   "outputs": [],
   "source": [
    "from matplotlib.colors import ListedColormap\n",
    "\n",
    "\n",
    "def decision_boundary(model, data, label):\n",
    "    sns_cmap = ListedColormap(np.array(sns.color_palette())[0:3, :])\n",
    "    xx, yy = np.meshgrid(np.arange(0, 12, 0.02), np.arange(0, 16, 0.02))\n",
    "    Z_string = model.predict(np.c_[xx.ravel(), yy.ravel()])\n",
    "    categories, Z_int = np.unique(Z_string, return_inverse=True)\n",
    "    Z_int = Z_int.reshape(xx.shape)\n",
    "    plt.contourf(xx, yy, Z_int, cmap=sns_cmap)\n",
    "    sns.scatterplot(data=data, x='AST', y='TRB', hue='Pos3')\n",
    "    plt.title(label);\n"
   ]
  },
  {
   "attachments": {},
   "cell_type": "markdown",
   "metadata": {
    "deletable": false,
    "editable": false,
    "nbgrader": {
     "cell_type": "markdown",
     "checksum": "25f1cfeb6557a6ecf733d1a7945a7d47",
     "grade": false,
     "grade_id": "cell-26b19f0fb58ada43",
     "locked": true,
     "schema_version": 3,
     "solution": false,
     "task": false
    }
   },
   "source": [
    "Now, let's draw the decision boundary for this decision tree classifier, and see how the classifier performs on both the training and test data."
   ]
  },
  {
   "cell_type": "code",
   "execution_count": null,
   "metadata": {
    "ExecuteTime": {
     "end_time": "2023-06-08T07:38:45.458014695Z",
     "start_time": "2023-06-08T07:38:45.031806137Z"
    },
    "deletable": false,
    "editable": false,
    "nbgrader": {
     "cell_type": "code",
     "checksum": "68a846cbd189864e416c4929f5a9cee6",
     "grade": false,
     "grade_id": "cell-c22a795f816ee30c",
     "locked": true,
     "schema_version": 3,
     "solution": false,
     "task": false
    }
   },
   "outputs": [],
   "source": [
    "decision_boundary(decision_tree_model, nba_train, 'Training Set, Decision Tree ')"
   ]
  },
  {
   "cell_type": "code",
   "execution_count": null,
   "metadata": {
    "ExecuteTime": {
     "end_time": "2023-06-08T07:38:45.872277906Z",
     "start_time": "2023-06-08T07:38:45.458359733Z"
    },
    "deletable": false,
    "editable": false,
    "nbgrader": {
     "cell_type": "code",
     "checksum": "c07fba2eeeabacd61674c9993608eea5",
     "grade": false,
     "grade_id": "cell-e415976c2c7bdac9",
     "locked": true,
     "schema_version": 3,
     "solution": false,
     "task": false
    }
   },
   "outputs": [],
   "source": [
    "decision_boundary(decision_tree_model, nba_test, 'Test Set, Decision Tree ')"
   ]
  },
  {
   "attachments": {},
   "cell_type": "markdown",
   "metadata": {
    "deletable": false,
    "editable": false,
    "nbgrader": {
     "cell_type": "markdown",
     "checksum": "9f88f629e6959e120f6639c14d632b95",
     "grade": false,
     "grade_id": "cell-7bdf469adbffc0b0",
     "locked": true,
     "schema_version": 3,
     "solution": false,
     "task": false
    }
   },
   "source": [
    "### Given the three plots, answer the following multiple choice questions, indicating which answer(s) are correct.:\n",
    "\n",
    "What does an overfitting decision tree model indicate?\n",
    "\n",
    "A) The model is too simple and underutilizes the available data.\n",
    "\n",
    "B) The model is complex and captures the noise or random fluctuations in the training data.\n",
    "\n",
    "C) The model is perfectly balanced and accurately generalizes to unseen data.\n",
    "\n",
    "D) The model is unable to learn from the training data and performs poorly.\n",
    "\n",
    "### Which of the following statements is true about an overfitting decision tree model?\n",
    "\n",
    "E) It tends to have low variance and high bias.\n",
    "\n",
    "F) It shows poor performance on both the training and test datasets.\n",
    "\n",
    "G) It indicates the model is too simple and needs more complexity.\n",
    "\n",
    "H) It captures the underlying patterns and relationships in the data accurately.\n",
    "\n",
    "### How does increasing the complexity of a tree eventually affect its decision boundary, compared to a slightly simpler model?\n",
    "\n",
    "I) The decision boundary becomes more flexible and better captures the underlying patterns.\n",
    "\n",
    "J) The decision boundary becomes more rigid and underfits the training data.\n",
    "\n",
    "K) The decision boundary becomes overly complex and closely follows the training data points.\n",
    "\n",
    "L) The decision boundary remains unchanged and doesn't adapt to the training data.\n",
    "\n",
    "### What is a common technique to reduce overfitting in a decision tree model?\n",
    "\n",
    "M) Increasing the maximum depth of the decision tree.\n",
    "\n",
    "N) Training the model on a smaller dataset to avoid noise.\n",
    "\n",
    "O) Decreasing the regularization parameter to encourage more splits.\n",
    "\n",
    "P) Pruning the decision tree by setting constraints on the tree growth.\n",
    "\n",
    "\n",
    "### Which of the following evaluation results would indicate an overfitting decision tree model?\n",
    "\n",
    "Q) High training accuracy and low test accuracy.\n",
    "\n",
    "R) High training accuracy and high test accuracy.\n",
    "\n",
    "S) Low training accuracy and low test accuracy.\n",
    "\n",
    "T) Low training accuracy and high test accuracy.\n",
    "\n"
   ]
  },
  {
   "cell_type": "code",
   "execution_count": null,
   "metadata": {
    "ExecuteTime": {
     "end_time": "2023-06-08T07:38:45.875016998Z",
     "start_time": "2023-06-08T07:38:45.871144649Z"
    },
    "deletable": false,
    "nbgrader": {
     "cell_type": "code",
     "checksum": "d3e5f4540fb015ba6c54ee2c74f41d9b",
     "grade": false,
     "grade_id": "cell-0a8efd1c584ba2cf",
     "locked": false,
     "schema_version": 3,
     "solution": true,
     "task": false
    }
   },
   "outputs": [],
   "source": [
    "# correct_solutions = []\n",
    "# YOUR CODE HERE\n",
    "raise NotImplementedError\n"
   ]
  },
  {
   "cell_type": "code",
   "execution_count": null,
   "metadata": {
    "ExecuteTime": {
     "end_time": "2023-06-08T07:38:45.910856772Z",
     "start_time": "2023-06-08T07:38:45.874115533Z"
    },
    "deletable": false,
    "editable": false,
    "nbgrader": {
     "cell_type": "code",
     "checksum": "14028e79d8ad73e403190e2363bb91cb",
     "grade": true,
     "grade_id": "cell-49f2af094e3db58e",
     "locked": true,
     "points": 5,
     "schema_version": 3,
     "solution": false,
     "task": false
    }
   },
   "outputs": [],
   "source": []
  },
  {
   "attachments": {},
   "cell_type": "markdown",
   "metadata": {
    "deletable": false,
    "editable": false,
    "nbgrader": {
     "cell_type": "markdown",
     "checksum": "c3ca7fdca33208b1c18749dd3c518e46",
     "grade": false,
     "grade_id": "cell-2bce0eafef253ba0",
     "locked": true,
     "schema_version": 3,
     "solution": false,
     "task": false
    }
   },
   "source": [
    "### Task 3d: Evaluate Decision Tree Classifier\n",
    "For a given model write a function, that returns it's train and test accuracy. Use the function `evaluate_classifier` to evaluate the decision tree model on the training and test sets. Assign the training accuracy to `dt_training_accuracy` and the test accuracy to `dt_test_accuracy`."
   ]
  },
  {
   "cell_type": "code",
   "execution_count": null,
   "metadata": {
    "ExecuteTime": {
     "end_time": "2023-06-08T07:38:45.926148393Z",
     "start_time": "2023-06-08T07:38:45.897727720Z"
    },
    "deletable": false,
    "nbgrader": {
     "cell_type": "code",
     "checksum": "4f9f33d801bc5454f240bed63ed986ca",
     "grade": false,
     "grade_id": "cell-28582e3910cbb49b",
     "locked": false,
     "schema_version": 3,
     "solution": true,
     "task": false
    }
   },
   "outputs": [],
   "source": [
    "from sklearn.tree import DecisionTreeClassifier\n",
    "\n",
    "\n",
    "def evaluate_classifier(model, X_train, y_train, X_test, y_test):\n",
    "    \"\"\"\n",
    "    Evaluates the quality of a classifier by calculating the accuracy score on both the training and test datasets.\n",
    "\n",
    "    Args:\n",
    "    - model: The trained classifier model.\n",
    "    - X_train: The feature matrix of the training dataset.\n",
    "    - y_train: The true labels of the training dataset.\n",
    "    - X_test: The feature matrix of the test dataset.\n",
    "    - y_test: The true labels of the test dataset.\n",
    "\n",
    "    Returns:\n",
    "    - train_accuracy: The accuracy score on the training dataset.\n",
    "    - test_accuracy: The accuracy score on the test dataset.\n",
    "    \"\"\"\n",
    "    # YOUR CODE HERE\n",
    "    raise NotImplementedError\n",
    "    return train_accuracy, test_accuracy\n",
    "\n",
    "\n",
    "# Original model accuracy\n",
    "dt_training_accuracy, dt_test_accuracy = evaluate_classifier(\n",
    "     decision_tree_model,\n",
    "     nba_train[['AST', 'TRB']],\n",
    "     nba_train['Pos3'],\n",
    "     nba_test[['AST', 'TRB']],\n",
    "     nba_test['Pos3']\n",
    ")\n",
    "print(f\"Training Accuracy: {dt_training_accuracy:.4f},\\nTest Accuracy: {dt_test_accuracy:.4f}\")\n"
   ]
  },
  {
   "cell_type": "code",
   "execution_count": null,
   "metadata": {
    "ExecuteTime": {
     "end_time": "2023-06-08T07:38:45.996504597Z",
     "start_time": "2023-06-08T07:38:45.912851859Z"
    },
    "deletable": false,
    "editable": false,
    "nbgrader": {
     "cell_type": "code",
     "checksum": "0cb9646067f15eaf080e5ecbb682bb86",
     "grade": true,
     "grade_id": "cell-1df2200848c1fb75",
     "locked": true,
     "points": 2,
     "schema_version": 3,
     "solution": false,
     "task": false
    }
   },
   "outputs": [],
   "source": []
  },
  {
   "attachments": {},
   "cell_type": "markdown",
   "metadata": {
    "deletable": false,
    "editable": false,
    "nbgrader": {
     "cell_type": "markdown",
     "checksum": "d622136bd087d949173231de17580e3c",
     "grade": false,
     "grade_id": "cell-25ed9deb96036e11",
     "locked": true,
     "schema_version": 3,
     "solution": false,
     "task": false
    }
   },
   "source": [
    "### Task 3e: Improving the decision tree model.\n",
    "Given your knowledge on decision trees, can you improve the model? Your model's performance will be evaluated on the test set (obviously) and compared against the previous model. You can either explicitly loop over relevant parameters or consult GridSearchCV (which is more advanced, using cross validation that we will encounter later in the course, but for all intents and purposes here does a grid search - i.e. an enumeration of all possible combination of parameters) from sklearn.model_selection. Notice, that GridSearchCV per default assumes, that the model has a score method if not otherwise provided -which the sklearn [DecisionTree](https://scikit-learn.org/stable/modules/generated/sklearn.tree.DecisionTreeClassifier.html#sklearn.tree.DecisionTreeClassifier.score) indeed has, measuring accuracy. \n",
    "\n",
    "Assign the training accuracy to dt_training_accuracy1 and the test accuracy to dt_test_accuracy1. A test accuracy of 0.60 is the threshold here.\n"
   ]
  },
  {
   "cell_type": "code",
   "execution_count": null,
   "metadata": {
    "ExecuteTime": {
     "end_time": "2023-06-08T07:38:46.459812433Z",
     "start_time": "2023-06-08T07:38:45.933425104Z"
    },
    "deletable": false,
    "nbgrader": {
     "cell_type": "code",
     "checksum": "6e6aa1536d0454cee30e33cbb6f397e9",
     "grade": false,
     "grade_id": "cell-7e0598f3f1de69ef",
     "locked": false,
     "schema_version": 3,
     "solution": true,
     "task": false
    }
   },
   "outputs": [],
   "source": [
    "from sklearn.tree import DecisionTreeClassifier\n",
    "from sklearn.model_selection import GridSearchCV\n",
    "\n",
    "# YOUR CODE HERE\n",
    "raise NotImplementedError\n",
    "\n",
    "# Evaluate the best model on the test set\n",
    "dt_test_accuracy1 = best_model.score(nba_test[['AST', 'TRB']], nba_test['Pos3'])\n",
    "\n",
    "print(\"Best Parameters:\", best_params)\n",
    "print(\"Test Accuracy with Best Model:\", dt_test_accuracy1)\n"
   ]
  },
  {
   "attachments": {},
   "cell_type": "markdown",
   "metadata": {
    "deletable": false,
    "editable": false,
    "nbgrader": {
     "cell_type": "markdown",
     "checksum": "8dd518b33dbbbba3727997caafccbc15",
     "grade": false,
     "grade_id": "cell-07743f12a8544a40",
     "locked": true,
     "schema_version": 3,
     "solution": false,
     "task": false
    }
   },
   "source": [
    "For your own convenience, here again the plot and the decision boundary of your best model."
   ]
  },
  {
   "cell_type": "code",
   "execution_count": null,
   "metadata": {
    "ExecuteTime": {
     "end_time": "2023-06-08T07:38:46.846749853Z",
     "start_time": "2023-06-08T07:38:46.466809277Z"
    }
   },
   "outputs": [],
   "source": [
    "fig, ax = plt.subplots(figsize=(20, 16))\n",
    "plot_tree(best_model, filled=True, feature_names=['AST', 'TRB'], class_names=['C', 'F', 'G'], ax=ax)"
   ]
  },
  {
   "cell_type": "code",
   "execution_count": null,
   "metadata": {
    "ExecuteTime": {
     "end_time": "2023-06-08T07:38:47.202983049Z",
     "start_time": "2023-06-08T07:38:46.846632902Z"
    },
    "deletable": false,
    "editable": false,
    "nbgrader": {
     "cell_type": "code",
     "checksum": "3a9b4bebfeceb34595f082f511a4f522",
     "grade": false,
     "grade_id": "cell-4e0508fecfabfb69",
     "locked": true,
     "schema_version": 3,
     "solution": false,
     "task": false
    }
   },
   "outputs": [],
   "source": [
    "decision_boundary(best_model, nba_test, 'Test Set, Decision Tree ')"
   ]
  },
  {
   "cell_type": "code",
   "execution_count": null,
   "metadata": {
    "ExecuteTime": {
     "end_time": "2023-06-08T07:38:47.205831711Z",
     "start_time": "2023-06-08T07:38:47.203640040Z"
    },
    "deletable": false,
    "editable": false,
    "nbgrader": {
     "cell_type": "code",
     "checksum": "7adbb982a19f364dea8857521e7b855d",
     "grade": true,
     "grade_id": "cell-51b031b9f5914ab2",
     "locked": true,
     "points": 4,
     "schema_version": 3,
     "solution": false,
     "task": false
    }
   },
   "outputs": [],
   "source": [
    "assert isinstance(best_model, DecisionTreeClassifier)\n"
   ]
  },
  {
   "attachments": {},
   "cell_type": "markdown",
   "metadata": {
    "deletable": false,
    "editable": false,
    "nbgrader": {
     "cell_type": "markdown",
     "checksum": "b48e546a836730117befd0de329ab3f0",
     "grade": false,
     "grade_id": "cell-b4b2aa50b4eca512",
     "locked": true,
     "schema_version": 3,
     "solution": false,
     "task": false
    }
   },
   "source": [
    "### Task 3f: Classify by hand.\n",
    "\n",
    "given the tree below, classify the observation TRB (Total Rebounds) = 4.5, AST (Assists) = 2.0. Indicate the integer that corresponds to the leaf node that the observation falls into (counting from left to right).\n",
    "\n",
    "![decision tree](tree.png)"
   ]
  },
  {
   "cell_type": "code",
   "execution_count": null,
   "metadata": {
    "ExecuteTime": {
     "end_time": "2023-06-08T07:38:47.232962432Z",
     "start_time": "2023-06-08T07:38:47.206361976Z"
    },
    "deletable": false,
    "nbgrader": {
     "cell_type": "code",
     "checksum": "bc97a4051b2034cdd31e7081f6fb6e90",
     "grade": false,
     "grade_id": "cell-077a91be7148527c",
     "locked": false,
     "schema_version": 3,
     "solution": true,
     "task": false
    }
   },
   "outputs": [],
   "source": [
    "\n",
    "# bucket =\n",
    "# YOUR CODE HERE\n",
    "raise NotImplementedError"
   ]
  },
  {
   "cell_type": "code",
   "execution_count": null,
   "metadata": {
    "ExecuteTime": {
     "end_time": "2023-06-08T07:38:47.287736688Z",
     "start_time": "2023-06-08T07:38:47.229360066Z"
    },
    "deletable": false,
    "editable": false,
    "nbgrader": {
     "cell_type": "code",
     "checksum": "d133ce0865f26399bfaeabbdb688a57f",
     "grade": true,
     "grade_id": "cell-bc69f5bbea47c0f9",
     "locked": true,
     "points": 2,
     "schema_version": 3,
     "solution": false,
     "task": false
    }
   },
   "outputs": [],
   "source": [
    "assert isinstance(bucket, int)"
   ]
  },
  {
   "attachments": {},
   "cell_type": "markdown",
   "metadata": {
    "deletable": false,
    "editable": false,
    "nbgrader": {
     "cell_type": "markdown",
     "checksum": "4f79aa0e7f148cacff84a9422c03d6fb",
     "grade": false,
     "grade_id": "cell-835eb3806574e679",
     "locked": true,
     "schema_version": 3,
     "solution": false,
     "task": false
    }
   },
   "source": [
    "## Random Forests\n",
    "\n",
    "\n",
    "As a reminder from the lecture: Fully-grown decision trees will almost always overfit data\n",
    "\n",
    "▶ In other words, small changes in dataset will result in very different decision tree\n",
    "\n",
    "▶ Idea: Build many decision trees and have them vote\n",
    "\n",
    "Given the issues we experienced in the former task and these statements, you will probably agree, that we should search for a more robust solution, that generalizes well.\n",
    "\n",
    "So what we do is, we create multiple decision trees from the same data by\n",
    "\n",
    "1) bagging, i.e. bootstrapping the data\n",
    "\n",
    "2) allow only a random subset of features for each splitting decision.\n",
    "\n",
    "This allows us to create variance across decision trees and therefore reduce overfitting and model variance.\n",
    "The final prediction is the majority vote of the decision trees.\n"
   ]
  },
  {
   "attachments": {},
   "cell_type": "markdown",
   "metadata": {
    "deletable": false,
    "editable": false,
    "nbgrader": {
     "cell_type": "markdown",
     "checksum": "e1c9b204572a87d8a55a24e0adb43f1b",
     "grade": false,
     "grade_id": "cell-eee7938ac89ccc1d",
     "locked": true,
     "schema_version": 3,
     "solution": false,
     "task": false
    }
   },
   "source": [
    "Let's now create a random forest classifier on the same training data `nba_train` and look at the resulting decision boundary.\n",
    "\n",
    "In the following cell, use [`ensemble.RandomForestClassifier`](https://scikit-learn.org/stable/modules/generated/sklearn.ensemble.RandomForestClassifier.html) to fit a model using the same features and response as above, and call this model `random_forest_model`. Use 20 trees in your random forest classifier, and set the `random_state` parameter to 42.\n",
    "\n",
    "**Hint:** Your code for both parts will be mostly the same as the first few parts of this question.\n",
    "\n",
    "**Hint:** Look at the `n_estimators` parameter of `ensemble.RandomForestClassifier`."
   ]
  },
  {
   "cell_type": "code",
   "execution_count": null,
   "metadata": {
    "ExecuteTime": {
     "end_time": "2023-06-08T07:38:47.322440608Z",
     "start_time": "2023-06-08T07:38:47.272112188Z"
    }
   },
   "outputs": [],
   "source": [
    "random_forest_model = ensemble.RandomForestClassifier(n_estimators=20, random_state=42)\n",
    "X, y = nba_train[['AST', 'TRB']], nba_train['Pos3']\n",
    "random_forest_model.fit(X, y)"
   ]
  },
  {
   "attachments": {},
   "cell_type": "markdown",
   "metadata": {
    "deletable": false,
    "editable": false,
    "nbgrader": {
     "cell_type": "markdown",
     "checksum": "7d7a929f349f7aad6106659840a655e0",
     "grade": false,
     "grade_id": "cell-fef6bcabe48aa0b6",
     "locked": true,
     "schema_version": 3,
     "solution": false,
     "task": false
    }
   },
   "source": [
    "Now, let's draw the decision boundary for this random forest classifier, and see how the classifier performs on both the training and test data."
   ]
  },
  {
   "cell_type": "code",
   "execution_count": null,
   "metadata": {
    "ExecuteTime": {
     "end_time": "2023-06-08T07:38:47.835754283Z",
     "start_time": "2023-06-08T07:38:47.316098100Z"
    }
   },
   "outputs": [],
   "source": [
    "decision_boundary(random_forest_model, nba_train, 'Training Set, Random Forest ')"
   ]
  },
  {
   "cell_type": "code",
   "execution_count": null,
   "metadata": {
    "ExecuteTime": {
     "end_time": "2023-06-08T07:38:48.387971093Z",
     "start_time": "2023-06-08T07:38:47.834056949Z"
    }
   },
   "outputs": [],
   "source": [
    "decision_boundary(random_forest_model, nba_test, 'Test Set, Random Forest ')"
   ]
  },
  {
   "attachments": {},
   "cell_type": "markdown",
   "metadata": {
    "deletable": false,
    "editable": false,
    "nbgrader": {
     "cell_type": "markdown",
     "checksum": "945440c4589244c2355320d58ad90b16",
     "grade": false,
     "grade_id": "cell-3b4c20aa0e8f9dfc",
     "locked": true,
     "schema_version": 3,
     "solution": false,
     "task": false
    }
   },
   "source": [
    "We compute the training and test accuracies of the random forest model below."
   ]
  },
  {
   "cell_type": "code",
   "execution_count": null,
   "metadata": {
    "ExecuteTime": {
     "end_time": "2023-06-08T07:38:48.397776126Z",
     "start_time": "2023-06-08T07:38:48.387797286Z"
    }
   },
   "outputs": [],
   "source": [
    "rf_train_accuracy = random_forest_model.score(nba_train[['AST', 'TRB']], nba_train['Pos3'])\n",
    "rf_test_accuracy = random_forest_model.score(nba_test[['AST', 'TRB']], nba_test['Pos3'])\n",
    "rf_train_accuracy, rf_test_accuracy"
   ]
  },
  {
   "attachments": {},
   "cell_type": "markdown",
   "metadata": {
    "deletable": false,
    "editable": false,
    "nbgrader": {
     "cell_type": "markdown",
     "checksum": "b2e08181ed4f803be14de24a3ae7bf0b",
     "grade": false,
     "grade_id": "cell-e37d85b3dc2a10be",
     "locked": true,
     "schema_version": 3,
     "solution": false,
     "task": false
    }
   },
   "source": [
    "### Task 3g: A simplified Random Forest.\n",
    "\n",
    "Consider the following code snippet, which of the features that are used in random forests is displayed here (simplistically)?\n",
    "\n",
    "\n",
    "A) Ensemble Learning: Random forests utilize ensemble learning, which involves combining the predictions of multiple individual decision trees to make the final prediction. The ensemble of decision trees allows for improved prediction accuracy and robustness.\n",
    "\n",
    "B) Bagging (Bootstrap Aggregating): Bagging is a technique used in random forests to create multiple subsets of the training data. Each subset is created through bootstrapping, which involves sampling the data with replacement. Bagging helps introduce diversity in the training process, as each decision tree is trained on a different subset of the data.\n",
    "\n",
    "C) Random Feature Subsampling: Random forests further enhance diversity by randomly selecting a subset of features at each splitting decision. This process, known as random feature subsampling, ensures that each decision tree is trained on a different subset of features. By reducing the correlation between trees, random feature subsampling helps prevent overfitting and improve generalization.\n",
    "\n",
    "D) Majority Voting: In the prediction phase, random forests combine the predictions of individual decision trees using majority voting. Each decision tree casts a vote for the predicted class, and the class with the majority of votes is chosen as the final prediction. Majority voting helps improve the accuracy and robustness of the ensemble model."
   ]
  },
  {
   "cell_type": "code",
   "execution_count": null,
   "metadata": {
    "ExecuteTime": {
     "end_time": "2023-06-08T07:38:48.436973877Z",
     "start_time": "2023-06-08T07:38:48.397902232Z"
    }
   },
   "outputs": [],
   "source": [
    "from sklearn.tree import DecisionTreeClassifier\n",
    "import numpy as np\n",
    "from collections import Counter\n",
    "\n",
    "class SimpleForestClassifier:\n",
    "    def __init__(self, num_trees=10, max_depth=5, random_state=None):\n",
    "        self.num_trees = num_trees\n",
    "        self.random_state = random_state\n",
    "        self.decision_trees = []\n",
    "        self.depths = np.random.randint(1, max_depth, size=num_trees)\n",
    "\n",
    "    def fit(self, X, y):\n",
    "        np.random.seed(self.random_state)\n",
    "\n",
    "        for _, depth in zip(range(self.num_trees), self.depths):\n",
    "            indices = np.random.choice(len(X), size=len(X), replace=True)\n",
    "            X_sub = X.iloc[indices]\n",
    "            y_sub = y.iloc[indices]\n",
    "\n",
    "            decision_tree = DecisionTreeClassifier(random_state=self.random_state, max_depth=depth)\n",
    "            decision_tree.fit(X_sub, y_sub)\n",
    "\n",
    "            self.decision_trees.append(decision_tree)\n",
    "\n",
    "    def predict(self, X):\n",
    "        predictions = []\n",
    "\n",
    "        for decision_tree in self.decision_trees:\n",
    "            predictions.append(decision_tree.predict(X))\n",
    "\n",
    "        return self.select(predictions)\n",
    "\n",
    "    def select(self,predictions):\n",
    "        \"\"\"\n",
    "        very naive way of selecting a single prediction from a list of predictiosn\n",
    "        :param predictions: a list of arrays, looking similar to this:\n",
    "            [np.array(['F', 'F', 'F', 'C', 'C', 'F', 'F', 'C', 'C', 'F', 'C', 'C', 'F',\n",
    "                      'C', 'F', 'F', 'C', 'C', 'F', 'F', 'F', 'G', 'G', 'G', 'G', 'G',\n",
    "                      'G', 'G', 'G', 'G', 'F', 'G', 'G', 'G', 'F', 'F', 'F', 'G', 'F',\n",
    "                      'F', 'F', 'C', 'G', 'G', 'G', 'F', 'G', 'G', 'G', 'F', 'G', 'F',\n",
    "                      'G', 'G', 'F', 'F'], dtype=object),\n",
    "               np.array(['C', 'C', 'F', 'C', 'C', 'C', 'F', 'C', 'F', 'G', 'C', 'C', 'C',\n",
    "                      'C', 'F', 'F', 'C', 'C', 'C', 'F', 'F', 'G', 'F', 'G', 'G', 'G',\n",
    "                      'G', 'G', 'G', 'G', 'F', 'G', 'F', 'G', 'F', 'F', 'F', 'G', 'F',\n",
    "                      'C', 'F', 'C', 'G', 'F', 'G', 'F', 'G', 'F', 'G', 'G', 'G', 'F',\n",
    "                      'G', 'G', 'F', 'F'], dtype=object)]\n",
    "\n",
    "        :return: np.array\n",
    "        \"\"\"\n",
    "        # Transpose the predictions array\n",
    "        transposed_predictions = np.array(predictions).T\n",
    "\n",
    "        ensemble_predictions = []\n",
    "        for preds in transposed_predictions:\n",
    "\n",
    "\n",
    "            # Count the occurrences of each predicted value\n",
    "            counter = Counter(preds)\n",
    "            most_common = counter.most_common()\n",
    "\n",
    "            ensemble_predictions.append(most_common[0][0])\n",
    "\n",
    "        return np.array(ensemble_predictions)\n",
    "\n",
    "\n"
   ]
  },
  {
   "cell_type": "code",
   "execution_count": null,
   "metadata": {
    "ExecuteTime": {
     "end_time": "2023-06-08T07:38:48.444321739Z",
     "start_time": "2023-06-08T07:38:48.415291283Z"
    }
   },
   "outputs": [],
   "source": [
    "\n",
    "# Create an instance of RandomForestClassifier\n",
    "simple_forest = SimpleForestClassifier(num_trees=2, random_state=42)\n",
    "\n",
    "# Fit the random forest model on the training data\n",
    "X_train, y_train = nba_train[['AST', 'TRB']].reset_index(drop=True), nba_train['Pos3'].reset_index(\n",
    "    drop=True)\n",
    "X_test, y_test = nba_test[['AST', 'TRB']].reset_index(drop=True), nba_test['Pos3'].reset_index(\n",
    "    drop=True)\n",
    "simple_forest.fit(X_train, y_train)\n",
    "\n",
    "# Make predictions using the random forest model\n",
    "predictions = simple_forest.predict(X_test)\n",
    "\n",
    "print(predictions)"
   ]
  },
  {
   "cell_type": "code",
   "execution_count": null,
   "metadata": {
    "ExecuteTime": {
     "end_time": "2023-06-08T07:38:48.449467867Z",
     "start_time": "2023-06-08T07:38:48.438399638Z"
    },
    "deletable": false,
    "nbgrader": {
     "cell_type": "code",
     "checksum": "54fddb19da62e13635a6b54328833af7",
     "grade": false,
     "grade_id": "cell-4a6ccfb59bebd719",
     "locked": false,
     "schema_version": 3,
     "solution": true,
     "task": false
    }
   },
   "outputs": [],
   "source": [
    "# rf_features = []\n",
    "# YOUR CODE HERE\n",
    "raise NotImplementedError"
   ]
  },
  {
   "cell_type": "code",
   "execution_count": null,
   "metadata": {
    "ExecuteTime": {
     "end_time": "2023-06-08T07:38:48.474329766Z",
     "start_time": "2023-06-08T07:38:48.448560430Z"
    },
    "deletable": false,
    "editable": false,
    "nbgrader": {
     "cell_type": "code",
     "checksum": "87437df35dba24291102960fa3b4fe1a",
     "grade": true,
     "grade_id": "cell-baeb235d13883601",
     "locked": true,
     "points": 4,
     "schema_version": 3,
     "solution": false,
     "task": false
    }
   },
   "outputs": [],
   "source": [
    "assert isinstance(rf_features, list)\n",
    "set(rf_features).issubset(set(['A', 'B', 'C', 'D']))"
   ]
  },
  {
   "cell_type": "code",
   "execution_count": null,
   "metadata": {},
   "outputs": [],
   "source": []
  }
 ],
 "metadata": {
  "kernelspec": {
   "display_name": "Python 3 (ipykernel)",
   "language": "python",
   "name": "python3"
  },
  "language_info": {
   "codemirror_mode": {
    "name": "ipython",
    "version": 3
   },
   "file_extension": ".py",
   "mimetype": "text/x-python",
   "name": "python",
   "nbconvert_exporter": "python",
   "pygments_lexer": "ipython3",
   "version": "3.10.11"
  }
 },
 "nbformat": 4,
 "nbformat_minor": 1
}
